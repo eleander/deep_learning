{
 "cells": [
  {
   "cell_type": "markdown",
   "id": "5a8ba82b",
   "metadata": {},
   "source": [
    "# Setup"
   ]
  },
  {
   "cell_type": "code",
   "execution_count": 3,
   "id": "df451a63",
   "metadata": {},
   "outputs": [],
   "source": [
    "# Python ≥3.5 is required\n",
    "import sys\n",
    "assert sys.version_info >= (3, 5)\n",
    "\n",
    "# Scikit-Learn ≥0.20 is required\n",
    "import sklearn\n",
    "assert sklearn.__version__ >= \"0.20\"\n",
    "\n",
    "try:\n",
    "    # %tensorflow_version only exists in Colab.\n",
    "    %tensorflow_version 2.x\n",
    "except Exception:\n",
    "    pass\n",
    "\n",
    "# TensorFlow ≥2.0 is required\n",
    "import tensorflow as tf\n",
    "from tensorflow import keras\n",
    "assert tf.__version__ >= \"2.0\"\n",
    "\n",
    "%load_ext tensorboard\n",
    "\n",
    "# Common imports\n",
    "import numpy as np\n",
    "import os\n",
    "\n",
    "# to make this notebook's output stable across runs\n",
    "np.random.seed(42)\n",
    "\n",
    "# To plot pretty figures\n",
    "%matplotlib inline\n",
    "import matplotlib as mpl\n",
    "import matplotlib.pyplot as plt\n",
    "mpl.rc('axes', labelsize=14)\n",
    "mpl.rc('xtick', labelsize=12)\n",
    "mpl.rc('ytick', labelsize=12)\n",
    "\n",
    "# Where to save the figures\n",
    "PROJECT_ROOT_DIR = \".\"\n",
    "CHAPTER_ID = \"deep\"\n",
    "IMAGES_PATH = os.path.join(PROJECT_ROOT_DIR, \"images\", CHAPTER_ID)\n",
    "os.makedirs(IMAGES_PATH, exist_ok=True)\n",
    "\n",
    "def save_fig(fig_id, tight_layout=True, fig_extension=\"png\", resolution=300):\n",
    "    path = os.path.join(IMAGES_PATH, fig_id + \".\" + fig_extension)\n",
    "    print(\"Saving figure\", fig_id)\n",
    "    if tight_layout:\n",
    "        plt.tight_layout()\n",
    "    plt.savefig(path, format=fig_extension, dpi=resolution)"
   ]
  },
  {
   "cell_type": "markdown",
   "id": "e5d817d5",
   "metadata": {},
   "source": [
    "In Chapter 10 we introduced artificial neural networks and trained our first deep\n",
    "neural networks. But they were shallow nets, with just a few hidden layers. What if\n",
    "you need to tackle a complex problem, such as detecting hundreds of types of objects\n",
    "in high-resolution images? You may need to train a much deeper DNN, perhaps with\n",
    "10 layers or many more, each containing hundreds of neurons, linked by hundreds of\n",
    "thousands of connections. Training a deep DNN isn’t a walk in the park. Here are\n",
    "some of the problems you could run into:\n",
    "\n",
    "- You may be faced with the tricky vanishing gradients problem or the related\n",
    "    exploding gradients problem. This is when the gradients grow smaller and\n",
    "    smaller, or larger and larger, when flowing backward through the DNN during\n",
    "    training. Both of these problems make lower layers very hard to train.\n",
    "- You might not have enough training data for such a large network, or it might be\n",
    "    too costly to label.\n",
    "- Training may be extremely slow.\n",
    "- A model with millions of parameters would severely risk overfitting the training\n",
    "    set, especially if there are not enough training instances or if they are too noisy."
   ]
  },
  {
   "cell_type": "markdown",
   "id": "14734bb4",
   "metadata": {},
   "source": [
    "# The Vanishing/Exploding Gradients Problems\n",
    "\n",
    "Gradients often get smaller and smaller as the algorithm progresses down to the lower layers. As a result, the Gradient Descent update leaves the lower layers’ connection weights virtually unchanged, and training never converges to a good solution. We call this the vanishing gradients problem. In some cases, the opposite can happen: the gradients can grow bigger and bigger until layers get insanely large weight updates and the algorithm diverges. This is the exploding gradients problem, which surfaces in recurrent neural networks (see Chapter 15). More generally, deep neural networks suffer from unstable gradients; different layers may learn at widely different speeds.\n",
    "\n",
    "Looking at the logistic activation function (see Figure 11-1), you can see that when inputs become large (negative or positive), the function saturates at 0 or 1, with a derivative extremely close to 0. Thus, when backpropagation kicks in it has virtually no gradient to propagate back through the network; and what little gradient exists keeps getting diluted as backpropagation progresses down through the top layers, so there is really nothing left for the lower layers."
   ]
  },
  {
   "cell_type": "code",
   "execution_count": 1,
   "id": "dd7ef4d3",
   "metadata": {},
   "outputs": [],
   "source": [
    "def logit(z):\n",
    "    return 1 / (1 + np.exp(-z))"
   ]
  },
  {
   "cell_type": "code",
   "execution_count": 4,
   "id": "6078fefd",
   "metadata": {},
   "outputs": [
    {
     "name": "stdout",
     "output_type": "stream",
     "text": [
      "Saving figure sigmoid_saturation_plot\n"
     ]
    },
    {
     "data": {
      "image/png": "[encoded data removed]",
      "text/plain": [
       "<Figure size 432x288 with 1 Axes>"
      ]
     },
     "metadata": {
      "needs_background": "light"
     },
     "output_type": "display_data"
    }
   ],
   "source": [
    "z = np.linspace(-5, 5, 200)\n",
    "\n",
    "plt.plot([-5, 5], [0, 0], 'k-')\n",
    "plt.plot([-5, 5], [1, 1], 'k--')\n",
    "plt.plot([0, 0], [-0.2, 1.2], 'k-')\n",
    "plt.plot([-5, 5], [-3/4, 7/4], 'g--')\n",
    "plt.plot(z, logit(z), \"b-\", linewidth=2)\n",
    "props = dict(facecolor='black', shrink=0.1)\n",
    "plt.annotate('Saturating', xytext=(3.5, 0.7), xy=(5, 1), arrowprops=props, fontsize=14, ha=\"center\")\n",
    "plt.annotate('Saturating', xytext=(-3.5, 0.3), xy=(-5, 0), arrowprops=props, fontsize=14, ha=\"center\")\n",
    "plt.annotate('Linear', xytext=(2, 0.2), xy=(0, 0.5), arrowprops=props, fontsize=14, ha=\"center\")\n",
    "plt.grid(True)\n",
    "plt.title(\"Sigmoid activation function\", fontsize=14)\n",
    "plt.axis([-5, 5, -0.2, 1.2])\n",
    "\n",
    "save_fig(\"sigmoid_saturation_plot\")\n",
    "plt.show()"
   ]
  },
  {
   "cell_type": "markdown",
   "id": "3a4812ef",
   "metadata": {},
   "source": [
    "##  Xavier and He Initialization / Glorot Initalization\n",
    "\n",
    "Using Glorot initialization can speed up training considerably, and it is\n",
    "one of the tricks that led to the success of Deep Learning."
   ]
  },
  {
   "cell_type": "code",
   "execution_count": 6,
   "id": "ae8ab993",
   "metadata": {},
   "outputs": [
    {
     "data": {
      "text/plain": [
       "['Constant',\n",
       " 'GlorotNormal',\n",
       " 'GlorotUniform',\n",
       " 'HeNormal',\n",
       " 'HeUniform',\n",
       " 'Identity',\n",
       " 'Initializer',\n",
       " 'LecunNormal',\n",
       " 'LecunUniform',\n",
       " 'Ones',\n",
       " 'Orthogonal',\n",
       " 'RandomNormal',\n",
       " 'RandomUniform',\n",
       " 'TruncatedNormal',\n",
       " 'VarianceScaling',\n",
       " 'Zeros',\n",
       " 'constant',\n",
       " 'deserialize',\n",
       " 'get',\n",
       " 'glorot_normal',\n",
       " 'glorot_uniform',\n",
       " 'he_normal',\n",
       " 'he_uniform',\n",
       " 'identity',\n",
       " 'lecun_normal',\n",
       " 'lecun_uniform',\n",
       " 'ones',\n",
       " 'orthogonal',\n",
       " 'random_normal',\n",
       " 'random_uniform',\n",
       " 'serialize',\n",
       " 'truncated_normal',\n",
       " 'variance_scaling',\n",
       " 'zeros']"
      ]
     },
     "execution_count": 6,
     "metadata": {},
     "output_type": "execute_result"
    }
   ],
   "source": [
    "[name for name in dir(keras.initializers) if not name.startswith(\"_\")]"
   ]
  },
  {
   "cell_type": "markdown",
   "id": "4835a226",
   "metadata": {},
   "source": [
    "![](images/init.png)\n",
    "\n",
    "By default, Keras uses Glorot initialization with a uniform distribution. When creating\n",
    "a layer, you can change this to He initialization by setting kernel_initial"
   ]
  },
  {
   "cell_type": "code",
   "execution_count": 8,
   "id": "13b6aa63",
   "metadata": {
    "scrolled": false
   },
   "outputs": [
    {
     "data": {
      "text/plain": [
       "<tensorflow.python.keras.layers.core.Dense at 0x17daa2de400>"
      ]
     },
     "execution_count": 8,
     "metadata": {},
     "output_type": "execute_result"
    }
   ],
   "source": [
    "keras.layers.Dense(10, activation=\"relu\", kernel_initializer=\"he_normal\")\n"
   ]
  },
  {
   "cell_type": "markdown",
   "id": "358f3e17",
   "metadata": {},
   "source": [
    "If you want He initialization with a uniform distribution but based on fanavg rather than fanin, you can use the VarianceScaling initializer like this:"
   ]
  },
  {
   "cell_type": "code",
   "execution_count": 9,
   "id": "0ed46bdc",
   "metadata": {},
   "outputs": [
    {
     "data": {
      "text/plain": [
       "<tensorflow.python.keras.layers.core.Dense at 0x17db5933be0>"
      ]
     },
     "execution_count": 9,
     "metadata": {},
     "output_type": "execute_result"
    }
   ],
   "source": [
    "init = keras.initializers.VarianceScaling(scale=2., mode='fan_avg',\n",
    "                                          distribution='uniform')\n",
    "keras.layers.Dense(10, activation=\"relu\", kernel_initializer=init)"
   ]
  },
  {
   "cell_type": "markdown",
   "id": "4c2c3128",
   "metadata": {},
   "source": [
    "##  Nonsaturating Activation Functions"
   ]
  },
  {
   "cell_type": "markdown",
   "id": "0f012b9b",
   "metadata": {},
   "source": [
    "Until then most people had assumed that if Mother Nature had chosen to use roughly sigmoid activation functions in biological neurons, they must be an excellent choice. But it turns out that other activation functions behave much better in deep neural networks—in particular, the ReLU activation function, mostly because it does not saturate for positive values (and because it is fast to compute).\n",
    "\n",
    "Unfortunately, the ReLU activation function is not perfect. It suffers from a problem known as the **dying ReLUs: during training, some neurons effectively “die,” meaning they stop outputting anything other than 0.** In some cases, you may find that half of your network’s neurons are dead, especially if you used a large learning rate. A neuron dies when its weights get tweaked in such a way that the weighted sum of its inputs are negative for all instances in the training set. When this happens, it just keeps outputting zeros, and Gradient Descent does not affect it anymore because the gradient of the ReLU function is zero when its input is negative.\n",
    "\n",
    "**To solve this problem, you may want to use a variant of the ReLU function, such as the leaky ReLU**"
   ]
  },
  {
   "cell_type": "markdown",
   "id": "4d8ed665",
   "metadata": {},
   "source": [
    "### Leaky ReLU"
   ]
  },
  {
   "cell_type": "markdown",
   "id": "e54bea9a",
   "metadata": {},
   "source": [
    "The hyperparameter α defines how much the function “leaks”: it is the\n",
    "slope of the function for z < 0 and is typically set to 0.01.\n",
    "\n",
    "A 2015 paper compared several variants of the ReLU activation function, and one of its conclusions was that the leaky variants always outperformed the strict ReLU activation function. In fact, setting α = 0.2 (a huge leak) seemed to result in better performance than α = 0.01 (a small leak).\n",
    "\n",
    "The paper also evaluated the randomized leaky ReLU (RReLU), where α is picked randomly in a given range during training and is fixed to an average value during testing. RReLU also performed fairly well and seemed to act as a regularizer (reducing the risk of overfitting the training set).\n",
    "\n",
    "Finally, the paper evaluated the parametric leaky ReLU (PReLU), where α is authorized to be learned during training (instead of being a hyperparameter, it becomes a parameter that can be modified by backpropagation like any other param‐ eter). PReLU was reported to strongly outperform ReLU on large image datasets, but on smaller datasets it runs the risk of overfitting the training set."
   ]
  },
  {
   "cell_type": "code",
   "execution_count": 10,
   "id": "636f40a8",
   "metadata": {},
   "outputs": [],
   "source": [
    "def leaky_relu(z, alpha=0.01):\n",
    "    return np.maximum(alpha*z, z)"
   ]
  },
  {
   "cell_type": "code",
   "execution_count": 11,
   "id": "36d1866c",
   "metadata": {
    "scrolled": false
   },
   "outputs": [
    {
     "name": "stdout",
     "output_type": "stream",
     "text": [
      "Saving figure leaky_relu_plot\n"
     ]
    },
    {
     "data": {
      "image/png": "[encoded data removed]",
      "text/plain": [
       "<Figure size 432x288 with 1 Axes>"
      ]
     },
     "metadata": {
      "needs_background": "light"
     },
     "output_type": "display_data"
    }
   ],
   "source": [
    "plt.plot(z, leaky_relu(z, 0.05), \"b-\", linewidth=2)\n",
    "plt.plot([-5, 5], [0, 0], 'k-')\n",
    "plt.plot([0, 0], [-0.5, 4.2], 'k-')\n",
    "plt.grid(True)\n",
    "props = dict(facecolor='black', shrink=0.1)\n",
    "plt.annotate('Leak', xytext=(-3.5, 0.5), xy=(-5, -0.2), arrowprops=props, fontsize=14, ha=\"center\")\n",
    "plt.title(\"Leaky ReLU activation function\", fontsize=14)\n",
    "plt.axis([-5, 5, -0.5, 4.2])\n",
    "\n",
    "save_fig(\"leaky_relu_plot\")\n",
    "plt.show()"
   ]
  },
  {
   "cell_type": "code",
   "execution_count": 12,
   "id": "3498a265",
   "metadata": {},
   "outputs": [
    {
     "data": {
      "text/plain": [
       "['deserialize',\n",
       " 'elu',\n",
       " 'exponential',\n",
       " 'get',\n",
       " 'hard_sigmoid',\n",
       " 'linear',\n",
       " 'relu',\n",
       " 'selu',\n",
       " 'serialize',\n",
       " 'sigmoid',\n",
       " 'softmax',\n",
       " 'softplus',\n",
       " 'softsign',\n",
       " 'swish',\n",
       " 'tanh']"
      ]
     },
     "execution_count": 12,
     "metadata": {},
     "output_type": "execute_result"
    }
   ],
   "source": [
    "[m for m in dir(keras.activations) if not m.startswith(\"_\")]"
   ]
  },
  {
   "cell_type": "code",
   "execution_count": 13,
   "id": "b45b320a",
   "metadata": {
    "scrolled": true
   },
   "outputs": [
    {
     "data": {
      "text/plain": [
       "['LeakyReLU', 'PReLU', 'ReLU', 'ThresholdedReLU']"
      ]
     },
     "execution_count": 13,
     "metadata": {},
     "output_type": "execute_result"
    }
   ],
   "source": [
    "[m for m in dir(keras.layers) if \"relu\" in m.lower()]"
   ]
  },
  {
   "cell_type": "markdown",
   "id": "26f92f9f",
   "metadata": {},
   "source": [
    "Let's train a neural network on Fashion MNIST using the Leaky ReLU:"
   ]
  },
  {
   "cell_type": "code",
   "execution_count": 7,
   "id": "3f0c57a1",
   "metadata": {},
   "outputs": [],
   "source": [
    "(X_train_full, y_train_full), (X_test, y_test) = keras.datasets.fashion_mnist.load_data()\n",
    "X_train_full = X_train_full / 255.0\n",
    "X_test = X_test / 255.0\n",
    "X_valid, X_train = X_train_full[:5000], X_train_full[5000:]\n",
    "y_valid, y_train = y_train_full[:5000], y_train_full[5000:]"
   ]
  },
  {
   "cell_type": "code",
   "execution_count": 15,
   "id": "6e5ab97b",
   "metadata": {},
   "outputs": [],
   "source": [
    "tf.random.set_seed(42)\n",
    "np.random.seed(42)\n",
    "\n",
    "model = keras.models.Sequential([\n",
    "    keras.layers.Flatten(input_shape=[28, 28]),\n",
    "    keras.layers.Dense(300, kernel_initializer=\"he_normal\"),\n",
    "    keras.layers.LeakyReLU(),\n",
    "    keras.layers.Dense(100, kernel_initializer=\"he_normal\"),\n",
    "    keras.layers.LeakyReLU(),\n",
    "    keras.layers.Dense(10, activation=\"softmax\")\n",
    "])"
   ]
  },
  {
   "cell_type": "code",
   "execution_count": 16,
   "id": "8b49d6ed",
   "metadata": {},
   "outputs": [],
   "source": [
    "model.compile(loss=\"sparse_categorical_crossentropy\",\n",
    "              optimizer=keras.optimizers.SGD(lr=1e-3),\n",
    "              metrics=[\"accuracy\"])"
   ]
  },
  {
   "cell_type": "code",
   "execution_count": 17,
   "id": "1b04c42d",
   "metadata": {
    "scrolled": true
   },
   "outputs": [
    {
     "name": "stdout",
     "output_type": "stream",
     "text": [
      "Epoch 1/10\n",
      "1719/1719 [==============================] - 10s 6ms/step - loss: 1.2819 - accuracy: 0.6229 - val_loss: 0.8886 - val_accuracy: 0.7160\n",
      "Epoch 2/10\n",
      "1719/1719 [==============================] - 9s 5ms/step - loss: 0.7955 - accuracy: 0.7362 - val_loss: 0.7130 - val_accuracy: 0.7656\n",
      "Epoch 3/10\n",
      "1719/1719 [==============================] - 8s 5ms/step - loss: 0.6816 - accuracy: 0.7721 - val_loss: 0.6427 - val_accuracy: 0.7898\n",
      "Epoch 4/10\n",
      "1719/1719 [==============================] - 8s 5ms/step - loss: 0.6217 - accuracy: 0.7944 - val_loss: 0.5900 - val_accuracy: 0.8066\n",
      "Epoch 5/10\n",
      "1719/1719 [==============================] - 9s 5ms/step - loss: 0.5832 - accuracy: 0.8075 - val_loss: 0.5582 - val_accuracy: 0.8200\n",
      "Epoch 6/10\n",
      "1719/1719 [==============================] - 9s 5ms/step - loss: 0.5553 - accuracy: 0.8157 - val_loss: 0.5350 - val_accuracy: 0.8238\n",
      "Epoch 7/10\n",
      "1719/1719 [==============================] - 9s 5ms/step - loss: 0.5338 - accuracy: 0.8224 - val_loss: 0.5157 - val_accuracy: 0.8304\n",
      "Epoch 8/10\n",
      "1719/1719 [==============================] - 9s 5ms/step - loss: 0.5173 - accuracy: 0.8272 - val_loss: 0.5079 - val_accuracy: 0.8286\n",
      "Epoch 9/10\n",
      "1719/1719 [==============================] - 10s 6ms/step - loss: 0.5040 - accuracy: 0.8289 - val_loss: 0.4895 - val_accuracy: 0.8390\n",
      "Epoch 10/10\n",
      "1719/1719 [==============================] - 9s 5ms/step - loss: 0.4924 - accuracy: 0.8321 - val_loss: 0.4817 - val_accuracy: 0.8396\n"
     ]
    }
   ],
   "source": [
    "history = model.fit(X_train, y_train, epochs=10,\n",
    "                    validation_data=(X_valid, y_valid))"
   ]
  },
  {
   "cell_type": "markdown",
   "id": "e464f85b",
   "metadata": {},
   "source": [
    "Now let's try PReLU:"
   ]
  },
  {
   "cell_type": "code",
   "execution_count": 18,
   "id": "244dc98b",
   "metadata": {},
   "outputs": [],
   "source": [
    "tf.random.set_seed(42)\n",
    "np.random.seed(42)\n",
    "\n",
    "model = keras.models.Sequential([\n",
    "    keras.layers.Flatten(input_shape=[28, 28]),\n",
    "    keras.layers.Dense(300, kernel_initializer=\"he_normal\"),\n",
    "    keras.layers.PReLU(),\n",
    "    keras.layers.Dense(100, kernel_initializer=\"he_normal\"),\n",
    "    keras.layers.PReLU(),\n",
    "    keras.layers.Dense(10, activation=\"softmax\")\n",
    "])"
   ]
  },
  {
   "cell_type": "code",
   "execution_count": 19,
   "id": "bc905f29",
   "metadata": {},
   "outputs": [],
   "source": [
    "model.compile(loss=\"sparse_categorical_crossentropy\",\n",
    "              optimizer=keras.optimizers.SGD(lr=1e-3),\n",
    "              metrics=[\"accuracy\"])"
   ]
  },
  {
   "cell_type": "code",
   "execution_count": 20,
   "id": "781ea978",
   "metadata": {},
   "outputs": [
    {
     "name": "stdout",
     "output_type": "stream",
     "text": [
      "Epoch 1/10\n",
      "1719/1719 [==============================] - 10s 6ms/step - loss: 1.3461 - accuracy: 0.6209 - val_loss: 0.9255 - val_accuracy: 0.7184\n",
      "Epoch 2/10\n",
      "1719/1719 [==============================] - 11s 6ms/step - loss: 0.8197 - accuracy: 0.7355 - val_loss: 0.7305 - val_accuracy: 0.7632\n",
      "Epoch 3/10\n",
      "1719/1719 [==============================] - 9s 5ms/step - loss: 0.6966 - accuracy: 0.7693 - val_loss: 0.6565 - val_accuracy: 0.7886\n",
      "Epoch 4/10\n",
      "1719/1719 [==============================] - 9s 5ms/step - loss: 0.6331 - accuracy: 0.7909 - val_loss: 0.6003 - val_accuracy: 0.8046\n",
      "Epoch 5/10\n",
      "1719/1719 [==============================] - 10s 6ms/step - loss: 0.5917 - accuracy: 0.8057 - val_loss: 0.5656 - val_accuracy: 0.8184\n",
      "Epoch 6/10\n",
      "1719/1719 [==============================] - 11s 7ms/step - loss: 0.5618 - accuracy: 0.8135 - val_loss: 0.5406 - val_accuracy: 0.8238\n",
      "Epoch 7/10\n",
      "1719/1719 [==============================] - 10s 6ms/step - loss: 0.5390 - accuracy: 0.8206 - val_loss: 0.5196 - val_accuracy: 0.8314\n",
      "Epoch 8/10\n",
      "1719/1719 [==============================] - 11s 6ms/step - loss: 0.5213 - accuracy: 0.8256 - val_loss: 0.5114 - val_accuracy: 0.8314\n",
      "Epoch 9/10\n",
      "1719/1719 [==============================] - 11s 7ms/step - loss: 0.5071 - accuracy: 0.8287 - val_loss: 0.4917 - val_accuracy: 0.8380\n",
      "Epoch 10/10\n",
      "1719/1719 [==============================] - 10s 6ms/step - loss: 0.4946 - accuracy: 0.8316 - val_loss: 0.4827 - val_accuracy: 0.8398\n"
     ]
    }
   ],
   "source": [
    "history = model.fit(X_train, y_train, epochs=10,\n",
    "                    validation_data=(X_valid, y_valid))"
   ]
  },
  {
   "cell_type": "markdown",
   "id": "25bd0ca1",
   "metadata": {},
   "source": [
    "### Exponential Linear Unit (ELU)\n",
    "\n",
    "Last but not least, a 2015 paper by Djork-Arné Clevert et al.6 proposed a new activation function called the exponential linear unit (ELU) that outperformed all the ReLU variants in the authors’ experiments: training time was reduced, and the neural network performed better on the test set.\n",
    "\n",
    "The main drawback of the ELU activation function is that it is slower to compute than the ReLU function and its variants (due to the use of the exponential function). Its faster convergence rate during training compensates for that slow computation, but still, at test time an ELU network will be slower than a ReLU network."
   ]
  },
  {
   "cell_type": "code",
   "execution_count": 21,
   "id": "2b44be16",
   "metadata": {},
   "outputs": [],
   "source": [
    "def elu(z, alpha=1):\n",
    "    return np.where(z < 0, alpha * (np.exp(z) - 1), z)"
   ]
  },
  {
   "cell_type": "code",
   "execution_count": 22,
   "id": "d7620088",
   "metadata": {
    "scrolled": true
   },
   "outputs": [
    {
     "name": "stdout",
     "output_type": "stream",
     "text": [
      "Saving figure elu_plot\n"
     ]
    },
    {
     "data": {
      "image/png": "[encoded data removed]",
      "text/plain": [
       "<Figure size 432x288 with 1 Axes>"
      ]
     },
     "metadata": {
      "needs_background": "light"
     },
     "output_type": "display_data"
    }
   ],
   "source": [
    "plt.plot(z, elu(z), \"b-\", linewidth=2)\n",
    "plt.plot([-5, 5], [0, 0], 'k-')\n",
    "plt.plot([-5, 5], [-1, -1], 'k--')\n",
    "plt.plot([0, 0], [-2.2, 3.2], 'k-')\n",
    "plt.grid(True)\n",
    "plt.title(r\"ELU activation function ($\\alpha=1$)\", fontsize=14)\n",
    "plt.axis([-5, 5, -2.2, 3.2])\n",
    "\n",
    "save_fig(\"elu_plot\")\n",
    "plt.show()"
   ]
  },
  {
   "cell_type": "markdown",
   "id": "95b914e2",
   "metadata": {},
   "source": [
    "Implementing ELU in TensorFlow is trivial, just specify the activation function when building each layer:"
   ]
  },
  {
   "cell_type": "code",
   "execution_count": 23,
   "id": "be2ecbb5",
   "metadata": {
    "scrolled": true
   },
   "outputs": [
    {
     "data": {
      "text/plain": [
       "<tensorflow.python.keras.layers.core.Dense at 0x17db5df0bb0>"
      ]
     },
     "execution_count": 23,
     "metadata": {},
     "output_type": "execute_result"
    }
   ],
   "source": [
    "keras.layers.Dense(10, activation=\"elu\")"
   ]
  },
  {
   "cell_type": "markdown",
   "id": "b632981a",
   "metadata": {},
   "source": [
    "### Selu\n",
    "\n",
    "Then, a 2017 paper7 by Günter Klambauer et al. introduced the Scaled ELU (SELU) activation function: as its name suggests, it is a scaled variant of the ELU activation function. The authors showed that if you build a neural network composed exclusively of a stack of dense layers, and if all hidden layers use the SELU activation function, then the network will self-normalize: the output of each layer will tend to preserve a mean of 0 and standard deviation of 1 during training, which solves the vanishing/exploding gradients problem. As a result, the SELU activation function often significantly outperforms other activation functions for such neural nets (especially deep ones). There are, however, a few conditions for self-normalization to happen (see the paper for the mathematical justification):\n",
    "- The input features must be standardized (mean 0 and standard deviation 1).\n",
    "- Every hidden layer’s weights must be initialized with LeCun normal initialization. In Keras, this means setting kernel_initializer=\"lecun_normal\".\n",
    "- The network’s architecture must be sequential. Unfortunately, if you try to use SELU in nonsequential architectures, such as recurrent networks (see Chapter 15) or networks with skip connections (i.e., connections that skip layers, such as in Wide & Deep nets), self-normalization will not be guaranteed, so SELU will not necessarily outperform other activation functions.\n",
    "- The paper only guarantees self-normalization if all layers are dense, but some researchers have noted that the SELU activation function can improve performance in convolutional neural nets as well (see Chapter 14).\n",
    "\n",
    "\n",
    "This activation function was proposed in this great paper by Günter Klambauer, Thomas Unterthiner and Andreas Mayr, published in June 2017. During training, a neural network composed exclusively of a stack of dense layers using the SELU activation function and LeCun initialization will self-normalize: the output of each layer will tend to preserve the same mean and variance during training, which solves the vanishing/exploding gradients problem. As a result, this activation function outperforms the other activation functions very significantly for such neural nets, so you should really try it out. Unfortunately, the self-normalizing property of the SELU activation function is easily broken: you cannot use ℓ1 or ℓ2 regularization, regular dropout, max-norm, skip connections or other non-sequential topologies (so recurrent neural networks won't self-normalize). However, in practice it works quite well with sequential CNNs. If you break self-normalization, SELU will not necessarily outperform other activation functions."
   ]
  },
  {
   "cell_type": "code",
   "execution_count": 24,
   "id": "2a9f7284",
   "metadata": {},
   "outputs": [],
   "source": [
    "\n",
    "from scipy.special import erfc\n",
    "\n",
    "# alpha and scale to self normalize with mean 0 and standard deviation 1\n",
    "# (see equation 14 in the paper):\n",
    "alpha_0_1 = -np.sqrt(2 / np.pi) / (erfc(1/np.sqrt(2)) * np.exp(1/2) - 1)\n",
    "scale_0_1 = (1 - erfc(1 / np.sqrt(2)) * np.sqrt(np.e)) * np.sqrt(2 * np.pi) * (2 * erfc(np.sqrt(2))*np.e**2 + np.pi*erfc(1/np.sqrt(2))**2*np.e - 2*(2+np.pi)*erfc(1/np.sqrt(2))*np.sqrt(np.e)+np.pi+2)**(-1/2)"
   ]
  },
  {
   "cell_type": "code",
   "execution_count": 25,
   "id": "3816d31f",
   "metadata": {},
   "outputs": [],
   "source": [
    "def selu(z, scale=scale_0_1, alpha=alpha_0_1):\n",
    "    return scale * elu(z, alpha)"
   ]
  },
  {
   "cell_type": "code",
   "execution_count": 26,
   "id": "2c41e833",
   "metadata": {},
   "outputs": [
    {
     "name": "stdout",
     "output_type": "stream",
     "text": [
      "Saving figure selu_plot\n"
     ]
    },
    {
     "data": {
      "image/png": "[encoded data removed]",
      "text/plain": [
       "<Figure size 432x288 with 1 Axes>"
      ]
     },
     "metadata": {
      "needs_background": "light"
     },
     "output_type": "display_data"
    }
   ],
   "source": [
    "plt.plot(z, selu(z), \"b-\", linewidth=2)\n",
    "plt.plot([-5, 5], [0, 0], 'k-')\n",
    "plt.plot([-5, 5], [-1.758, -1.758], 'k--')\n",
    "plt.plot([0, 0], [-2.2, 3.2], 'k-')\n",
    "plt.grid(True)\n",
    "plt.title(\"SELU activation function\", fontsize=14)\n",
    "plt.axis([-5, 5, -2.2, 3.2])\n",
    "\n",
    "save_fig(\"selu_plot\")\n",
    "plt.show()"
   ]
  },
  {
   "cell_type": "markdown",
   "id": "a5e7dfa0",
   "metadata": {},
   "source": [
    "By default, the SELU hyperparameters (scale and alpha) are tuned in such a way that the mean output of each neuron remains close to 0, and the standard deviation remains close to 1 (assuming the inputs are standardized with mean 0 and standard deviation 1 too). Using this activation function, even a 1,000 layer deep neural network preserves roughly mean 0 and standard deviation 1 across all layers, avoiding the exploding/vanishing gradients problem:"
   ]
  },
  {
   "cell_type": "code",
   "execution_count": 27,
   "id": "cf774519",
   "metadata": {
    "scrolled": true
   },
   "outputs": [
    {
     "name": "stdout",
     "output_type": "stream",
     "text": [
      "Layer 0: mean -0.00, std deviation 1.00\n",
      "Layer 100: mean 0.02, std deviation 0.96\n",
      "Layer 200: mean 0.01, std deviation 0.90\n",
      "Layer 300: mean -0.02, std deviation 0.92\n",
      "Layer 400: mean 0.05, std deviation 0.89\n",
      "Layer 500: mean 0.01, std deviation 0.93\n",
      "Layer 600: mean 0.02, std deviation 0.92\n",
      "Layer 700: mean -0.02, std deviation 0.90\n",
      "Layer 800: mean 0.05, std deviation 0.83\n",
      "Layer 900: mean 0.02, std deviation 1.00\n"
     ]
    }
   ],
   "source": [
    "\n",
    "np.random.seed(42)\n",
    "Z = np.random.normal(size=(500, 100)) # standardized inputs\n",
    "for layer in range(1000):\n",
    "    W = np.random.normal(size=(100, 100), scale=np.sqrt(1 / 100)) # LeCun initialization\n",
    "    Z = selu(np.dot(Z, W))\n",
    "    means = np.mean(Z, axis=0).mean()\n",
    "    stds = np.std(Z, axis=0).mean()\n",
    "    if layer % 100 == 0:\n",
    "        print(\"Layer {}: mean {:.2f}, std deviation {:.2f}\".format(layer, means, stds))"
   ]
  },
  {
   "cell_type": "markdown",
   "id": "35fb6b89",
   "metadata": {},
   "source": [
    "Using SELU is easy:"
   ]
  },
  {
   "cell_type": "code",
   "execution_count": 29,
   "id": "3d851c25",
   "metadata": {},
   "outputs": [
    {
     "data": {
      "text/plain": [
       "<tensorflow.python.keras.layers.core.Dense at 0x17db510f3d0>"
      ]
     },
     "execution_count": 29,
     "metadata": {},
     "output_type": "execute_result"
    }
   ],
   "source": [
    "keras.layers.Dense(10, activation=\"selu\",\n",
    "                   kernel_initializer=\"lecun_normal\")"
   ]
  },
  {
   "cell_type": "markdown",
   "id": "998c98f0",
   "metadata": {},
   "source": [
    "Let's create a neural net for Fashion MNIST with 100 hidden layers, using the SELU activation function:"
   ]
  },
  {
   "cell_type": "code",
   "execution_count": 30,
   "id": "4df73741",
   "metadata": {},
   "outputs": [],
   "source": [
    "np.random.seed(42)\n",
    "tf.random.set_seed(42)"
   ]
  },
  {
   "cell_type": "code",
   "execution_count": 31,
   "id": "2da24c88",
   "metadata": {},
   "outputs": [],
   "source": [
    "model = keras.models.Sequential()\n",
    "model.add(keras.layers.Flatten(input_shape=[28, 28]))\n",
    "model.add(keras.layers.Dense(300, activation=\"selu\",\n",
    "                             kernel_initializer=\"lecun_normal\"))\n",
    "for layer in range(99):\n",
    "    model.add(keras.layers.Dense(100, activation=\"selu\",\n",
    "                                 kernel_initializer=\"lecun_normal\"))\n",
    "model.add(keras.layers.Dense(10, activation=\"softmax\"))"
   ]
  },
  {
   "cell_type": "code",
   "execution_count": 32,
   "id": "3d52e46b",
   "metadata": {},
   "outputs": [],
   "source": [
    "model.compile(loss=\"sparse_categorical_crossentropy\",\n",
    "              optimizer=keras.optimizers.SGD(lr=1e-3),\n",
    "              metrics=[\"accuracy\"])"
   ]
  },
  {
   "cell_type": "markdown",
   "id": "f44416c1",
   "metadata": {},
   "source": [
    "Now let's train it. Do not forget to scale the inputs to mean 0 and standard deviation 1:"
   ]
  },
  {
   "cell_type": "code",
   "execution_count": 8,
   "id": "c6ddec89",
   "metadata": {},
   "outputs": [],
   "source": [
    "pixel_means = X_train.mean(axis=0, keepdims=True)\n",
    "pixel_stds = X_train.std(axis=0, keepdims=True)\n",
    "X_train_scaled = (X_train - pixel_means) / pixel_stds\n",
    "X_valid_scaled = (X_valid - pixel_means) / pixel_stds\n",
    "X_test_scaled = (X_test - pixel_means) / pixel_stds"
   ]
  },
  {
   "cell_type": "code",
   "execution_count": 34,
   "id": "032eb260",
   "metadata": {},
   "outputs": [
    {
     "name": "stdout",
     "output_type": "stream",
     "text": [
      "Epoch 1/5\n",
      "1719/1719 [==============================] - 65s 38ms/step - loss: 1.0076 - accuracy: 0.6162 - val_loss: 0.8929 - val_accuracy: 0.6836\n",
      "Epoch 2/5\n",
      "1719/1719 [==============================] - 66s 38ms/step - loss: 0.6358 - accuracy: 0.7773 - val_loss: 0.5437 - val_accuracy: 0.8146\n",
      "Epoch 3/5\n",
      "1719/1719 [==============================] - 62s 36ms/step - loss: 0.5336 - accuracy: 0.8146 - val_loss: 0.5033 - val_accuracy: 0.8214\n",
      "Epoch 4/5\n",
      "1719/1719 [==============================] - 62s 36ms/step - loss: 0.4889 - accuracy: 0.8297 - val_loss: 0.4757 - val_accuracy: 0.8342\n",
      "Epoch 5/5\n",
      "1719/1719 [==============================] - 62s 36ms/step - loss: 0.4487 - accuracy: 0.8438 - val_loss: 0.4298 - val_accuracy: 0.8504\n"
     ]
    }
   ],
   "source": [
    "history = model.fit(X_train_scaled, y_train, epochs=5,\n",
    "                    validation_data=(X_valid_scaled, y_valid))"
   ]
  },
  {
   "cell_type": "markdown",
   "id": "d69275a7",
   "metadata": {},
   "source": [
    "Now look at what happens if we try to use the ReLU activation function instead:"
   ]
  },
  {
   "cell_type": "code",
   "execution_count": 35,
   "id": "2b4eb119",
   "metadata": {},
   "outputs": [],
   "source": [
    "np.random.seed(42)\n",
    "tf.random.set_seed(42)"
   ]
  },
  {
   "cell_type": "code",
   "execution_count": 36,
   "id": "3c573fe8",
   "metadata": {},
   "outputs": [],
   "source": [
    "model = keras.models.Sequential()\n",
    "model.add(keras.layers.Flatten(input_shape=[28, 28]))\n",
    "model.add(keras.layers.Dense(300, activation=\"relu\", kernel_initializer=\"he_normal\"))\n",
    "for layer in range(99):\n",
    "    model.add(keras.layers.Dense(100, activation=\"relu\", kernel_initializer=\"he_normal\"))\n",
    "model.add(keras.layers.Dense(10, activation=\"softmax\"))"
   ]
  },
  {
   "cell_type": "code",
   "execution_count": 37,
   "id": "2db29ffa",
   "metadata": {},
   "outputs": [],
   "source": [
    "model.compile(loss=\"sparse_categorical_crossentropy\",\n",
    "              optimizer=keras.optimizers.SGD(lr=1e-3),\n",
    "              metrics=[\"accuracy\"])"
   ]
  },
  {
   "cell_type": "code",
   "execution_count": 38,
   "id": "5d0207af",
   "metadata": {},
   "outputs": [
    {
     "name": "stdout",
     "output_type": "stream",
     "text": [
      "Epoch 1/5\n",
      "1719/1719 [==============================] - 55s 32ms/step - loss: 1.7881 - accuracy: 0.2715 - val_loss: 1.8198 - val_accuracy: 0.2938\n",
      "Epoch 2/5\n",
      "1719/1719 [==============================] - 55s 32ms/step - loss: 1.1090 - accuracy: 0.5347 - val_loss: 0.9632 - val_accuracy: 0.5974\n",
      "Epoch 3/5\n",
      "1719/1719 [==============================] - 51s 29ms/step - loss: 1.0872 - accuracy: 0.5563 - val_loss: 1.0153 - val_accuracy: 0.5952\n",
      "Epoch 4/5\n",
      "1719/1719 [==============================] - 53s 31ms/step - loss: 1.0576 - accuracy: 0.5843 - val_loss: 1.0003 - val_accuracy: 0.6168\n",
      "Epoch 5/5\n",
      "1719/1719 [==============================] - 52s 30ms/step - loss: 0.9623 - accuracy: 0.6375 - val_loss: 0.8725 - val_accuracy: 0.6774\n"
     ]
    }
   ],
   "source": [
    "history = model.fit(X_train_scaled, y_train, epochs=5,\n",
    "                    validation_data=(X_valid_scaled, y_valid))"
   ]
  },
  {
   "cell_type": "markdown",
   "id": "fde06632",
   "metadata": {},
   "source": [
    "**TIP:** So, which activation function should you use for the hidden layers\n",
    "of your deep neural networks? Although your mileage will vary, in\n",
    "general SELU > ELU > leaky ReLU (and its variants) > ReLU > tanh > logistic. If the network’s architecture prevents it from selfnormalizing,\n",
    "then ELU may perform better than SELU (since SELU\n",
    "is not smooth at z = 0). If you care a lot about runtime latency, then\n",
    "you may prefer leaky ReLU. If you don’t want to tweak yet another\n",
    "hyperparameter, you may use the default α values used by Keras\n",
    "(e.g., 0.3 for leaky ReLU). If you have spare time and computing\n",
    "power, you can use cross-validation to evaluate other activation\n",
    "functions, such as RReLU if your network is overfitting or PReLU\n",
    "if you have a huge training set. That said, because ReLU is the most\n",
    "used activation function (by far), many libraries and hardware\n",
    "accelerators provide ReLU-specific optimizations; therefore, if\n",
    "speed is your priority, ReLU might still be the best choice."
   ]
  },
  {
   "cell_type": "markdown",
   "id": "2562af97",
   "metadata": {},
   "source": [
    "## Batch Normalization\n",
    "\n",
    "Although using He initialization along with ELU (or any variant of ReLU) can significantly\n",
    "reduce the danger of the vanishing/exploding gradients problems at the beginning\n",
    "of training, it doesn’t guarantee that they won’t come back during training.\n",
    "\n",
    "The technique consists of\n",
    "adding an operation in the model just before or after the activation function of each\n",
    "hidden layer. This operation simply zero-centers and normalizes each input, then\n",
    "scales and shifts the result using two new parameter vectors per layer: one for scaling,\n",
    "the other for shifting. In other words, the operation lets the model learn the optimal\n",
    "scale and mean of each of the layer’s inputs. In many cases, if you add a BN layer as\n",
    "the very first layer of your neural network, you do not need to standardize your training\n",
    "set (e.g., using a StandardScaler); the BN layer will do it for you (well, approximately,\n",
    "since it only looks at one batch at a time, and it can also rescale and shift each\n",
    "input feature).\n",
    "\n",
    "Ioffe and Szegedy demonstrated that Batch Normalization considerably improved all\n",
    "the deep neural networks they experimented with, leading to a huge improvement in\n",
    "the ImageNet classification task (ImageNet is a large database of images classified into\n",
    "many classes, commonly used to evaluate computer vision systems). The vanishing\n",
    "gradients problem was strongly reduced, to the point that they could use saturating\n",
    "activation functions such as the tanh and even the logistic activation function. The\n",
    "networks were also much less sensitive to the weight initialization. The authors were\n",
    "able to use much larger learning rates, significantly speeding up the learning process.\n",
    "\n",
    "Finally, like a gift that keeps on giving, Batch Normalization acts like a regularizer,\n",
    "reducing the need for other regularization techniques (such as dropout, described\n",
    "later in this chapter).\n",
    "\n",
    "Batch Normalization does, however, add some complexity to the model (although it\n",
    "can remove the need for normalizing the input data, as we discussed earlier). Moreover,\n",
    "there is a runtime penalty: the neural network makes slower predictions due to\n",
    "the extra computations required at each layer. Fortunately, it’s often possible to fuse\n",
    "the BN layer with the previous layer, after training, thereby avoiding the runtime penalty.\n",
    "This is done by updating the previous layer’s weights and biases so that it directly\n",
    "produces outputs of the appropriate scale and offset.\n",
    "\n",
    "**NOTE:** You may find that training is rather slow, because each epoch takes\n",
    "much more time when you use Batch Normalization. This is usually\n",
    "counterbalanced by the fact that convergence is much faster\n",
    "with BN, so it will take fewer epochs to reach the same performance.\n",
    "All in all, wall time will usually be shorter (this is the time\n",
    "measured by the clock on your wall)."
   ]
  },
  {
   "cell_type": "markdown",
   "id": "0348e1d3",
   "metadata": {},
   "source": [
    "### Implementing Batch Normalization with Keras\n",
    "\n",
    "As with most things with Keras, implementing Batch Normalization is simple and\n",
    "intuitive. Just add a BatchNormalization layer before or after each hidden layer’s\n",
    "activation function, and optionally add a BN layer as well as the first layer in your\n",
    "model. For example, this model applies BN after every hidden layer and as the first\n",
    "layer in the model (after flattening the input images):"
   ]
  },
  {
   "cell_type": "code",
   "execution_count": 2,
   "id": "235f3e04",
   "metadata": {},
   "outputs": [],
   "source": [
    "model = keras.models.Sequential([\n",
    "    keras.layers.Flatten(input_shape=[28, 28]),\n",
    "    keras.layers.BatchNormalization(),\n",
    "    keras.layers.Dense(300, activation=\"relu\"),\n",
    "    keras.layers.BatchNormalization(),\n",
    "    keras.layers.Dense(100, activation=\"relu\"),\n",
    "    keras.layers.BatchNormalization(),\n",
    "    keras.layers.Dense(10, activation=\"softmax\")\n",
    "])"
   ]
  },
  {
   "cell_type": "markdown",
   "id": "56e09b55",
   "metadata": {},
   "source": [
    "That’s all! In this tiny example with just two hidden layers, it’s unlikely that Batch\n",
    "Normalization will have a very positive impact; but for deeper networks it can make a\n",
    "tremendous difference."
   ]
  },
  {
   "cell_type": "code",
   "execution_count": 3,
   "id": "0cb4577c",
   "metadata": {},
   "outputs": [
    {
     "name": "stdout",
     "output_type": "stream",
     "text": [
      "Model: \"sequential\"\n",
      "_________________________________________________________________\n",
      "Layer (type)                 Output Shape              Param #   \n",
      "=================================================================\n",
      "flatten (Flatten)            (None, 784)               0         \n",
      "_________________________________________________________________\n",
      "batch_normalization (BatchNo (None, 784)               3136      \n",
      "_________________________________________________________________\n",
      "dense (Dense)                (None, 300)               235500    \n",
      "_________________________________________________________________\n",
      "batch_normalization_1 (Batch (None, 300)               1200      \n",
      "_________________________________________________________________\n",
      "dense_1 (Dense)              (None, 100)               30100     \n",
      "_________________________________________________________________\n",
      "batch_normalization_2 (Batch (None, 100)               400       \n",
      "_________________________________________________________________\n",
      "dense_2 (Dense)              (None, 10)                1010      \n",
      "=================================================================\n",
      "Total params: 271,346\n",
      "Trainable params: 268,978\n",
      "Non-trainable params: 2,368\n",
      "_________________________________________________________________\n"
     ]
    }
   ],
   "source": [
    "model.summary()"
   ]
  },
  {
   "cell_type": "markdown",
   "id": "eb49575f",
   "metadata": {},
   "source": [
    "As you can see, each BN layer adds four parameters per input: γ, β, μ, and σ (for\n",
    "example, the first BN layer adds 3,136 parameters, which is 4 × 784). The last two\n",
    "parameters, μ and σ, are the moving averages; they are not affected by backpropagation,\n",
    "so Keras calls them “non-trainable”9 (if you count the total number of BN\n",
    "parameters, 3,136 + 1,200 + 400, and divide by 2, you get 2,368, which is the total\n",
    "number of non-trainable parameters in this model)."
   ]
  },
  {
   "cell_type": "markdown",
   "id": "544b9437",
   "metadata": {},
   "source": [
    "Let’s look at the parameters of the first BN layer. Two are trainable (by backpropagation),\n",
    "and two are not:"
   ]
  },
  {
   "cell_type": "code",
   "execution_count": 10,
   "id": "fd05a451",
   "metadata": {},
   "outputs": [
    {
     "data": {
      "text/plain": [
       "[('batch_normalization/gamma:0', True),\n",
       " ('batch_normalization/beta:0', True),\n",
       " ('batch_normalization/moving_mean:0', False),\n",
       " ('batch_normalization/moving_variance:0', False)]"
      ]
     },
     "execution_count": 10,
     "metadata": {},
     "output_type": "execute_result"
    }
   ],
   "source": [
    "bn1 = model.layers[1]\n",
    "[(var.name, var.trainable) for var in bn1.variables]"
   ]
  },
  {
   "cell_type": "code",
   "execution_count": 5,
   "id": "dfe132d2",
   "metadata": {},
   "outputs": [],
   "source": [
    "model.compile(loss=\"sparse_categorical_crossentropy\",\n",
    "              optimizer=keras.optimizers.SGD(lr=1e-3),\n",
    "              metrics=[\"accuracy\"])"
   ]
  },
  {
   "cell_type": "code",
   "execution_count": 8,
   "id": "5a4b2024",
   "metadata": {},
   "outputs": [
    {
     "name": "stdout",
     "output_type": "stream",
     "text": [
      "Epoch 1/10\n",
      "1719/1719 [==============================] - 5s 3ms/step - loss: 0.8373 - accuracy: 0.7209 - val_loss: 0.5422 - val_accuracy: 0.8186\n",
      "Epoch 2/10\n",
      "1719/1719 [==============================] - 4s 3ms/step - loss: 0.5619 - accuracy: 0.8065 - val_loss: 0.4664 - val_accuracy: 0.8430\n",
      "Epoch 3/10\n",
      "1719/1719 [==============================] - 5s 3ms/step - loss: 0.5047 - accuracy: 0.8245 - val_loss: 0.4334 - val_accuracy: 0.8514\n",
      "Epoch 4/10\n",
      "1719/1719 [==============================] - 5s 3ms/step - loss: 0.4718 - accuracy: 0.8345 - val_loss: 0.4126 - val_accuracy: 0.8596\n",
      "Epoch 5/10\n",
      "1719/1719 [==============================] - 5s 3ms/step - loss: 0.4497 - accuracy: 0.8421 - val_loss: 0.3986 - val_accuracy: 0.8618\n",
      "Epoch 6/10\n",
      "1719/1719 [==============================] - 5s 3ms/step - loss: 0.4339 - accuracy: 0.8481 - val_loss: 0.3874 - val_accuracy: 0.8658\n",
      "Epoch 7/10\n",
      "1719/1719 [==============================] - 5s 3ms/step - loss: 0.4147 - accuracy: 0.8531 - val_loss: 0.3794 - val_accuracy: 0.8690\n",
      "Epoch 8/10\n",
      "1719/1719 [==============================] - 5s 3ms/step - loss: 0.4073 - accuracy: 0.8563 - val_loss: 0.3713 - val_accuracy: 0.8704\n",
      "Epoch 9/10\n",
      "1719/1719 [==============================] - 4s 3ms/step - loss: 0.3963 - accuracy: 0.8597 - val_loss: 0.3657 - val_accuracy: 0.8708\n",
      "Epoch 10/10\n",
      "1719/1719 [==============================] - 4s 3ms/step - loss: 0.3890 - accuracy: 0.8623 - val_loss: 0.3611 - val_accuracy: 0.8726\n"
     ]
    }
   ],
   "source": [
    "history = model.fit(X_train, y_train, epochs=10,\n",
    "                    validation_data=(X_valid, y_valid))"
   ]
  },
  {
   "cell_type": "markdown",
   "id": "5a5e2e54",
   "metadata": {},
   "source": [
    "Sometimes applying BN before the activation function works better (there's a debate on this topic). Moreover, the layer before a BatchNormalization layer does not need to have bias terms, since the BatchNormalization layer some as well, it would be a waste of parameters, so you can set use_bias=False when creating those layers:"
   ]
  },
  {
   "cell_type": "markdown",
   "id": "90a9c218",
   "metadata": {},
   "source": [
    "The authors of the BN paper argued in favor of adding the BN layers before the activation\n",
    "functions, rather than after (as we just did). There is some debate about this, as\n",
    "which is preferable seems to depend on the task—you can experiment with this too to\n",
    "see which option works best on your dataset. To add the BN layers before the activation\n",
    "functions, you must remove the activation function from the hidden layers and\n",
    "add them as separate layers after the BN layers. Moreover, since a Batch Normalization\n",
    "layer includes one offset parameter per input, you can remove the bias term from\n",
    "the previous layer (just pass use_bias=False when creating it):"
   ]
  },
  {
   "cell_type": "code",
   "execution_count": 11,
   "id": "160db3a1",
   "metadata": {},
   "outputs": [],
   "source": [
    "model = keras.models.Sequential([\n",
    "    keras.layers.Flatten(input_shape=[28, 28]),\n",
    "    keras.layers.BatchNormalization(),\n",
    "    keras.layers.Dense(300, use_bias=False),\n",
    "    keras.layers.BatchNormalization(),\n",
    "    keras.layers.Activation(\"relu\"),\n",
    "    keras.layers.Dense(100, use_bias=False),\n",
    "    keras.layers.BatchNormalization(),\n",
    "    keras.layers.Activation(\"relu\"),\n",
    "    keras.layers.Dense(10, activation=\"softmax\")\n",
    "])"
   ]
  },
  {
   "cell_type": "code",
   "execution_count": 12,
   "id": "f380541f",
   "metadata": {},
   "outputs": [],
   "source": [
    "model.compile(loss=\"sparse_categorical_crossentropy\",\n",
    "              optimizer=keras.optimizers.SGD(lr=1e-3),\n",
    "              metrics=[\"accuracy\"])"
   ]
  },
  {
   "cell_type": "code",
   "execution_count": 13,
   "id": "33a577d1",
   "metadata": {},
   "outputs": [
    {
     "name": "stdout",
     "output_type": "stream",
     "text": [
      "Epoch 1/10\n",
      "1719/1719 [==============================] - 5s 3ms/step - loss: 1.0497 - accuracy: 0.6745 - val_loss: 0.6623 - val_accuracy: 0.7886\n",
      "Epoch 2/10\n",
      "1719/1719 [==============================] - 5s 3ms/step - loss: 0.6709 - accuracy: 0.7834 - val_loss: 0.5470 - val_accuracy: 0.8190\n",
      "Epoch 3/10\n",
      "1719/1719 [==============================] - 5s 3ms/step - loss: 0.5846 - accuracy: 0.8059 - val_loss: 0.4930 - val_accuracy: 0.8350\n",
      "Epoch 4/10\n",
      "1719/1719 [==============================] - 5s 3ms/step - loss: 0.5382 - accuracy: 0.8196 - val_loss: 0.4604 - val_accuracy: 0.8452\n",
      "Epoch 5/10\n",
      "1719/1719 [==============================] - 5s 3ms/step - loss: 0.5056 - accuracy: 0.8288 - val_loss: 0.4375 - val_accuracy: 0.8524\n",
      "Epoch 6/10\n",
      "1719/1719 [==============================] - 5s 3ms/step - loss: 0.4844 - accuracy: 0.8358 - val_loss: 0.4236 - val_accuracy: 0.8536\n",
      "Epoch 7/10\n",
      "1719/1719 [==============================] - 5s 3ms/step - loss: 0.4688 - accuracy: 0.8392 - val_loss: 0.4095 - val_accuracy: 0.8582\n",
      "Epoch 8/10\n",
      "1719/1719 [==============================] - 5s 3ms/step - loss: 0.4528 - accuracy: 0.8435 - val_loss: 0.3987 - val_accuracy: 0.8604\n",
      "Epoch 9/10\n",
      "1719/1719 [==============================] - 5s 3ms/step - loss: 0.4429 - accuracy: 0.8478 - val_loss: 0.3897 - val_accuracy: 0.8630\n",
      "Epoch 10/10\n",
      "1719/1719 [==============================] - 5s 3ms/step - loss: 0.4302 - accuracy: 0.8524 - val_loss: 0.3819 - val_accuracy: 0.8646\n"
     ]
    }
   ],
   "source": [
    "history = model.fit(X_train, y_train, epochs=10,\n",
    "                    validation_data=(X_valid, y_valid))"
   ]
  },
  {
   "cell_type": "markdown",
   "id": "26550b05",
   "metadata": {},
   "source": [
    "The BatchNormalization class has quite a few hyperparameters you can tweak. The\n",
    "defaults will usually be fine, but you may occasionally need to tweak the momentum.\n",
    "A good momentum value is typically close to 1; for example, 0.9, 0.99, or 0.999 (you\n",
    "want more 9s for larger datasets and smaller mini-batches).\n",
    "\n",
    "Another important hyperparameter is axis: it determines which axis should be normalized.\n",
    "It defaults to –1, meaning that by default it will normalize the last axis (using\n",
    "the means and standard deviations computed across the other axes). When the input\n",
    "batch is 2D (i.e., the batch shape is [batch size, features]), this means that each input\n",
    "feature will be normalized based on the mean and standard deviation computed\n",
    "across all the instances in the batch."
   ]
  },
  {
   "cell_type": "markdown",
   "id": "eda62ad5",
   "metadata": {},
   "source": [
    "BatchNormalization has become one of the most-used layers in deep neural networks,\n",
    "to the point that it is often omitted in the diagrams, as it is assumed that BN is\n",
    "added after every layer.\n",
    "\n",
    "But a recent paper by Hongyi Zhang et al. may change this\n",
    "assumption: by using a novel fixed-update (fixup) weight initialization technique, the\n",
    "authors managed to train a very deep neural network (10,000 layers!) without BN,\n",
    "achieving state-of-the-art performance on complex image classification tasks. As this\n",
    "is bleeding-edge research, however, you may want to wait for additional research to\n",
    "confirm this finding before you drop Batch Normalization"
   ]
  },
  {
   "cell_type": "markdown",
   "id": "967dec43",
   "metadata": {},
   "source": [
    "## Gradient Clipping \n",
    "\n",
    "Another popular technique to mitigate the exploding gradients problem is to clip the\n",
    "gradients during backpropagation so that they never exceed some threshold. This is\n",
    "called Gradient Clipping. This technique is most often used in recurrent neural networks,\n",
    "as Batch Normalization is tricky to use in RNNs, as we will see in Chapter 15.\n",
    "For other types of networks, BN is usually sufficient."
   ]
  },
  {
   "cell_type": "markdown",
   "id": "cdf4644f",
   "metadata": {},
   "source": [
    "In Keras, implementing Gradient Clipping is just a matter of setting the clipvalue or\n",
    "clipnorm argument when creating an optimizer, like this:"
   ]
  },
  {
   "cell_type": "code",
   "execution_count": 14,
   "id": "fe3900d7",
   "metadata": {},
   "outputs": [],
   "source": [
    "optimizer = keras.optimizers.SGD(clipvalue=1.0)"
   ]
  },
  {
   "cell_type": "code",
   "execution_count": 15,
   "id": "7032cf72",
   "metadata": {},
   "outputs": [],
   "source": [
    "optimizer = keras.optimizers.SGD(clipnorm=1.0)"
   ]
  },
  {
   "cell_type": "markdown",
   "id": "0ddb130e",
   "metadata": {},
   "source": [
    "This optimizer will clip every component of the gradient vector to a value between\n",
    "–1.0 and 1.0. This means that all the partial derivatives of the loss (with regard to each\n",
    "and every trainable parameter) will be clipped between –1.0 and 1.0. The threshold is\n",
    "a hyperparameter you can tune.\n",
    "\n",
    "Note that it may change the orientation of the gradient\n",
    "vector. For instance, if the original gradient vector is [0.9, 100.0], it points mostly\n",
    "in the direction of the second axis; but once you clip it by value, you get [0.9, 1.0],\n",
    "which points roughly in the diagonal between the two axes. In practice, this approach\n",
    "works well. \n",
    "\n",
    "If you want to ensure that Gradient Clipping does not change the direction\n",
    "of the gradient vector, you should clip by norm by setting clipnorm instead of\n",
    "clipvalue. This will clip the whole gradient if its ℓ2 norm is greater than the threshold\n",
    "you picked. For example, if you set clipnorm=1.0, then the vector [0.9, 100.0]\n",
    "will be clipped to [0.00899964, 0.9999595], preserving its orientation but almost eliminating\n",
    "the first component. If you observe that the gradients explode during training\n",
    "(you can track the size of the gradients using TensorBoard), you may want to try both\n",
    "clipping by value and clipping by norm, with different thresholds, and see which\n",
    "option performs best on the validation set."
   ]
  },
  {
   "cell_type": "markdown",
   "id": "e200cd2b",
   "metadata": {},
   "source": [
    "# Reusing Pretrained Layers\n",
    "\n",
    "It is generally not a good idea to train a very large DNN from scratch: instead, you\n",
    "should always try to find an existing neural network that accomplishes a similar task\n",
    "to the one you are trying to tackle (we will discuss how to find them in Chapter 14),\n",
    "then reuse the lower layers of this network. This technique is called **transfer learning**.\n",
    "\n",
    "It will not only speed up training considerably, but also require significantly less\n",
    "training data.\n",
    "\n",
    "![](images/reuse_1.png)\n",
    "\n",
    "**NOTE**: If the input pictures of your new task don’t have the same size as\n",
    "the ones used in the original task, you will usually have to add a\n",
    "preprocessing step to resize them to the size expected by the original\n",
    "model. More generally, transfer learning will work best when\n",
    "the inputs have similar low-level features.\n",
    "\n",
    "The output layer of the original model should usually be replaced because it is most\n",
    "likely not useful at all for the new task, and it may not even have the right number of\n",
    "outputs for the new task.\n",
    "\n",
    "Similarly, the upper hidden layers of the original model are less likely to be as useful\n",
    "as the lower layers, since the high-level features that are most useful for the new task\n",
    "may differ significantly from the ones that were most useful for the original task. You\n",
    "want to find the right number of layers to reuse.\n",
    "\n",
    "**TIP**: The more similar the tasks are, the more layers you want to reuse\n",
    "(starting with the lower layers). For very similar tasks, try keeping\n",
    "all the hidden layers and just replacing the output layer.\n",
    "\n",
    "Try freezing all the reused layers first (i.e., make their weights non-trainable so that\n",
    "Gradient Descent won’t modify them), then train your model and see how it performs.\n",
    "Then try unfreezing one or two of the top hidden layers to let backpropagation\n",
    "tweak them and see if performance improves. The more training data you have,\n",
    "the more layers you can unfreeze. It is also useful to reduce the learning rate when\n",
    "you unfreeze reused layers: this will avoid wrecking their fine-tuned weights.\n",
    "\n",
    "If you still cannot get good performance, and you have little training data, try dropping\n",
    "the top hidden layer(s) and freezing all the remaining hidden layers again. You\n",
    "can iterate until you find the right number of layers to reuse. If you have plenty of\n",
    "training data, you may try replacing the top hidden layers instead of dropping them,\n",
    "and even adding more hidden layers."
   ]
  },
  {
   "cell_type": "markdown",
   "id": "5937fdea",
   "metadata": {},
   "source": [
    "### Transfer Learning with Keras\n",
    "\n",
    "Let's split the fashion MNIST training set in two:\n",
    "\n",
    "- X_train_A: all images of all items except for sandals and shirts (classes 5 and 6).\n",
    "- X_train_B: a much smaller training set of just the first 200 images of sandals or shirts.\n",
    "\n",
    "The validation set and the test set are also split this way, but without restricting the number of images.\n",
    "\n",
    "We will train a model on set A (classification task with 8 classes), and try to reuse it to tackle set B (binary classification). We hope to transfer a little bit of knowledge from task A to task B, since classes in set A (sneakers, ankle boots, coats, t-shirts, etc.) are somewhat similar to classes in set B (sandals and shirts). However, since we are using Dense layers, only patterns that occur at the same location can be reused (in contrast, convolutional layers will transfer much better, since learned patterns can be detected anywhere on the image, as we will see in the CNN chapter)."
   ]
  },
  {
   "cell_type": "code",
   "execution_count": 16,
   "id": "8f400d96",
   "metadata": {},
   "outputs": [],
   "source": [
    "def split_dataset(X, y):\n",
    "    y_5_or_6 = (y == 5) | (y == 6) # sandals or shirts\n",
    "    y_A = y[~y_5_or_6]\n",
    "    y_A[y_A > 6] -= 2 # class indices 7, 8, 9 should be moved to 5, 6, 7\n",
    "    y_B = (y[y_5_or_6] == 6).astype(np.float32) # binary classification task: is it a shirt (class 6)?\n",
    "    return ((X[~y_5_or_6], y_A),\n",
    "            (X[y_5_or_6], y_B))\n",
    "\n",
    "(X_train_A, y_train_A), (X_train_B, y_train_B) = split_dataset(X_train, y_train)\n",
    "(X_valid_A, y_valid_A), (X_valid_B, y_valid_B) = split_dataset(X_valid, y_valid)\n",
    "(X_test_A, y_test_A), (X_test_B, y_test_B) = split_dataset(X_test, y_test)\n",
    "X_train_B = X_train_B[:200]\n",
    "y_train_B = y_train_B[:200]"
   ]
  },
  {
   "cell_type": "code",
   "execution_count": 17,
   "id": "ba9fbf34",
   "metadata": {},
   "outputs": [
    {
     "data": {
      "text/plain": [
       "(43986, 28, 28)"
      ]
     },
     "execution_count": 17,
     "metadata": {},
     "output_type": "execute_result"
    }
   ],
   "source": [
    "X_train_A.shape"
   ]
  },
  {
   "cell_type": "code",
   "execution_count": 18,
   "id": "ce24a838",
   "metadata": {},
   "outputs": [
    {
     "data": {
      "text/plain": [
       "(200, 28, 28)"
      ]
     },
     "execution_count": 18,
     "metadata": {},
     "output_type": "execute_result"
    }
   ],
   "source": [
    "X_train_B.shape"
   ]
  },
  {
   "cell_type": "code",
   "execution_count": 19,
   "id": "47751c07",
   "metadata": {},
   "outputs": [
    {
     "data": {
      "text/plain": [
       "array([4, 0, 5, 7, 7, 7, 4, 4, 3, 4, 0, 1, 6, 3, 4, 3, 2, 6, 5, 3, 4, 5,\n",
       "       1, 3, 4, 2, 0, 6, 7, 1], dtype=uint8)"
      ]
     },
     "execution_count": 19,
     "metadata": {},
     "output_type": "execute_result"
    }
   ],
   "source": [
    "y_train_A[:30]"
   ]
  },
  {
   "cell_type": "code",
   "execution_count": 20,
   "id": "76343859",
   "metadata": {},
   "outputs": [
    {
     "data": {
      "text/plain": [
       "array([1., 1., 0., 0., 0., 0., 1., 1., 1., 0., 0., 1., 1., 0., 0., 0., 0.,\n",
       "       0., 0., 1., 1., 0., 0., 1., 1., 0., 1., 1., 1., 1.], dtype=float32)"
      ]
     },
     "execution_count": 20,
     "metadata": {},
     "output_type": "execute_result"
    }
   ],
   "source": [
    "y_train_B[:30]"
   ]
  },
  {
   "cell_type": "code",
   "execution_count": 21,
   "id": "35ca298a",
   "metadata": {},
   "outputs": [],
   "source": [
    "tf.random.set_seed(42)\n",
    "np.random.seed(42)"
   ]
  },
  {
   "cell_type": "code",
   "execution_count": 22,
   "id": "75abba46",
   "metadata": {},
   "outputs": [],
   "source": [
    "model_A = keras.models.Sequential()\n",
    "model_A.add(keras.layers.Flatten(input_shape=[28, 28]))\n",
    "for n_hidden in (300, 100, 50, 50, 50):\n",
    "    model_A.add(keras.layers.Dense(n_hidden, activation=\"selu\"))\n",
    "model_A.add(keras.layers.Dense(8, activation=\"softmax\"))"
   ]
  },
  {
   "cell_type": "code",
   "execution_count": 23,
   "id": "7433b73b",
   "metadata": {},
   "outputs": [],
   "source": [
    "model_A.compile(loss=\"sparse_categorical_crossentropy\",\n",
    "                optimizer=keras.optimizers.SGD(lr=1e-3),\n",
    "                metrics=[\"accuracy\"])"
   ]
  },
  {
   "cell_type": "code",
   "execution_count": 24,
   "id": "17c5b867",
   "metadata": {},
   "outputs": [
    {
     "name": "stdout",
     "output_type": "stream",
     "text": [
      "Epoch 1/20\n",
      "1375/1375 [==============================] - 3s 2ms/step - loss: 0.5926 - accuracy: 0.8103 - val_loss: 0.3890 - val_accuracy: 0.8677\n",
      "Epoch 2/20\n",
      "1375/1375 [==============================] - 2s 2ms/step - loss: 0.3523 - accuracy: 0.8786 - val_loss: 0.3288 - val_accuracy: 0.8824\n",
      "Epoch 3/20\n",
      "1375/1375 [==============================] - 2s 2ms/step - loss: 0.3170 - accuracy: 0.8895 - val_loss: 0.3012 - val_accuracy: 0.8994\n",
      "Epoch 4/20\n",
      "1375/1375 [==============================] - 2s 2ms/step - loss: 0.2972 - accuracy: 0.8974 - val_loss: 0.2892 - val_accuracy: 0.9018\n",
      "Epoch 5/20\n",
      "1375/1375 [==============================] - 3s 2ms/step - loss: 0.2834 - accuracy: 0.9020 - val_loss: 0.2775 - val_accuracy: 0.9071\n",
      "Epoch 6/20\n",
      "1375/1375 [==============================] - 3s 2ms/step - loss: 0.2729 - accuracy: 0.9063 - val_loss: 0.2734 - val_accuracy: 0.9068\n",
      "Epoch 7/20\n",
      "1375/1375 [==============================] - 3s 2ms/step - loss: 0.2640 - accuracy: 0.9093 - val_loss: 0.2720 - val_accuracy: 0.9088\n",
      "Epoch 8/20\n",
      "1375/1375 [==============================] - 3s 2ms/step - loss: 0.2572 - accuracy: 0.9126 - val_loss: 0.2589 - val_accuracy: 0.9143\n",
      "Epoch 9/20\n",
      "1375/1375 [==============================] - 3s 2ms/step - loss: 0.2518 - accuracy: 0.9135 - val_loss: 0.2563 - val_accuracy: 0.9145\n",
      "Epoch 10/20\n",
      "1375/1375 [==============================] - 3s 2ms/step - loss: 0.2469 - accuracy: 0.9155 - val_loss: 0.2541 - val_accuracy: 0.9155\n",
      "Epoch 11/20\n",
      "1375/1375 [==============================] - 3s 2ms/step - loss: 0.2422 - accuracy: 0.9176 - val_loss: 0.2494 - val_accuracy: 0.9150\n",
      "Epoch 12/20\n",
      "1375/1375 [==============================] - 3s 2ms/step - loss: 0.2382 - accuracy: 0.9188 - val_loss: 0.2510 - val_accuracy: 0.9131\n",
      "Epoch 13/20\n",
      "1375/1375 [==============================] - 3s 2ms/step - loss: 0.2350 - accuracy: 0.9197 - val_loss: 0.2446 - val_accuracy: 0.9158\n",
      "Epoch 14/20\n",
      "1375/1375 [==============================] - 2s 2ms/step - loss: 0.2315 - accuracy: 0.9213 - val_loss: 0.2413 - val_accuracy: 0.9178\n",
      "Epoch 15/20\n",
      "1375/1375 [==============================] - 2s 2ms/step - loss: 0.2287 - accuracy: 0.9213 - val_loss: 0.2444 - val_accuracy: 0.9195\n",
      "Epoch 16/20\n",
      "1375/1375 [==============================] - 3s 2ms/step - loss: 0.2254 - accuracy: 0.9223 - val_loss: 0.2386 - val_accuracy: 0.9195\n",
      "Epoch 17/20\n",
      "1375/1375 [==============================] - 3s 2ms/step - loss: 0.2230 - accuracy: 0.9234 - val_loss: 0.2406 - val_accuracy: 0.9180\n",
      "Epoch 18/20\n",
      "1375/1375 [==============================] - 3s 2ms/step - loss: 0.2200 - accuracy: 0.9245 - val_loss: 0.2424 - val_accuracy: 0.9153\n",
      "Epoch 19/20\n",
      "1375/1375 [==============================] - 3s 2ms/step - loss: 0.2177 - accuracy: 0.9255 - val_loss: 0.2328 - val_accuracy: 0.9205\n",
      "Epoch 20/20\n",
      "1375/1375 [==============================] - 3s 2ms/step - loss: 0.2155 - accuracy: 0.9260 - val_loss: 0.2330 - val_accuracy: 0.9205\n"
     ]
    }
   ],
   "source": [
    "history = model_A.fit(X_train_A, y_train_A, epochs=20,\n",
    "                    validation_data=(X_valid_A, y_valid_A))"
   ]
  },
  {
   "cell_type": "code",
   "execution_count": 25,
   "id": "92c95d8d",
   "metadata": {},
   "outputs": [],
   "source": [
    "model_A.save(\"my_model_A.h5\")"
   ]
  },
  {
   "cell_type": "code",
   "execution_count": 26,
   "id": "ec985100",
   "metadata": {},
   "outputs": [],
   "source": [
    "model_B = keras.models.Sequential()\n",
    "model_B.add(keras.layers.Flatten(input_shape=[28, 28]))\n",
    "for n_hidden in (300, 100, 50, 50, 50):\n",
    "    model_B.add(keras.layers.Dense(n_hidden, activation=\"selu\"))\n",
    "model_B.add(keras.layers.Dense(1, activation=\"sigmoid\"))"
   ]
  },
  {
   "cell_type": "code",
   "execution_count": 27,
   "id": "3297dd05",
   "metadata": {},
   "outputs": [],
   "source": [
    "model_B.compile(loss=\"binary_crossentropy\",\n",
    "                optimizer=keras.optimizers.SGD(lr=1e-3),\n",
    "                metrics=[\"accuracy\"])"
   ]
  },
  {
   "cell_type": "code",
   "execution_count": 29,
   "id": "96dd0a65",
   "metadata": {
    "scrolled": true
   },
   "outputs": [
    {
     "name": "stdout",
     "output_type": "stream",
     "text": [
      "Epoch 1/20\n",
      "7/7 [==============================] - 0s 12ms/step - loss: 0.1152 - accuracy: 0.9900 - val_loss: 0.1380 - val_accuracy: 0.9716\n",
      "Epoch 2/20\n",
      "7/7 [==============================] - 0s 8ms/step - loss: 0.1101 - accuracy: 0.9900 - val_loss: 0.1338 - val_accuracy: 0.9736\n",
      "Epoch 3/20\n",
      "7/7 [==============================] - 0s 7ms/step - loss: 0.1056 - accuracy: 0.9900 - val_loss: 0.1295 - val_accuracy: 0.9757\n",
      "Epoch 4/20\n",
      "7/7 [==============================] - ETA: 0s - loss: 0.1023 - accuracy: 1.00 - 0s 9ms/step - loss: 0.1016 - accuracy: 0.9900 - val_loss: 0.1259 - val_accuracy: 0.9757\n",
      "Epoch 5/20\n",
      "7/7 [==============================] - 0s 8ms/step - loss: 0.0977 - accuracy: 0.9900 - val_loss: 0.1225 - val_accuracy: 0.9757\n",
      "Epoch 6/20\n",
      "7/7 [==============================] - 0s 9ms/step - loss: 0.0940 - accuracy: 0.9900 - val_loss: 0.1195 - val_accuracy: 0.9757\n",
      "Epoch 7/20\n",
      "7/7 [==============================] - 0s 8ms/step - loss: 0.0907 - accuracy: 0.9900 - val_loss: 0.1173 - val_accuracy: 0.9757\n",
      "Epoch 8/20\n",
      "7/7 [==============================] - 0s 8ms/step - loss: 0.0874 - accuracy: 0.9900 - val_loss: 0.1145 - val_accuracy: 0.9757\n",
      "Epoch 9/20\n",
      "7/7 [==============================] - 0s 9ms/step - loss: 0.0847 - accuracy: 0.9900 - val_loss: 0.1109 - val_accuracy: 0.9757\n",
      "Epoch 10/20\n",
      "7/7 [==============================] - 0s 9ms/step - loss: 0.0817 - accuracy: 0.9950 - val_loss: 0.1083 - val_accuracy: 0.9757\n",
      "Epoch 11/20\n",
      "7/7 [==============================] - 0s 9ms/step - loss: 0.0792 - accuracy: 0.9950 - val_loss: 0.1062 - val_accuracy: 0.9757\n",
      "Epoch 12/20\n",
      "7/7 [==============================] - 0s 9ms/step - loss: 0.0767 - accuracy: 0.9950 - val_loss: 0.1043 - val_accuracy: 0.9757\n",
      "Epoch 13/20\n",
      "7/7 [==============================] - 0s 8ms/step - loss: 0.0743 - accuracy: 0.9950 - val_loss: 0.1022 - val_accuracy: 0.9757\n",
      "Epoch 14/20\n",
      "7/7 [==============================] - 0s 7ms/step - loss: 0.0723 - accuracy: 0.9950 - val_loss: 0.1002 - val_accuracy: 0.9767\n",
      "Epoch 15/20\n",
      "7/7 [==============================] - 0s 7ms/step - loss: 0.0702 - accuracy: 0.9950 - val_loss: 0.0981 - val_accuracy: 0.9767\n",
      "Epoch 16/20\n",
      "7/7 [==============================] - 0s 10ms/step - loss: 0.0684 - accuracy: 0.9950 - val_loss: 0.0965 - val_accuracy: 0.9767\n",
      "Epoch 17/20\n",
      "7/7 [==============================] - 0s 7ms/step - loss: 0.0667 - accuracy: 0.9950 - val_loss: 0.0948 - val_accuracy: 0.9767\n",
      "Epoch 18/20\n",
      "7/7 [==============================] - 0s 7ms/step - loss: 0.0650 - accuracy: 0.9950 - val_loss: 0.0931 - val_accuracy: 0.9777\n",
      "Epoch 19/20\n",
      "7/7 [==============================] - 0s 8ms/step - loss: 0.0634 - accuracy: 0.9950 - val_loss: 0.0915 - val_accuracy: 0.9777\n",
      "Epoch 20/20\n",
      "7/7 [==============================] - 0s 8ms/step - loss: 0.0617 - accuracy: 0.9950 - val_loss: 0.0902 - val_accuracy: 0.9777\n"
     ]
    }
   ],
   "source": [
    "history = model_B.fit(X_train_B, y_train_B, epochs=20,\n",
    "                      validation_data=(X_valid_B, y_valid_B))"
   ]
  },
  {
   "cell_type": "code",
   "execution_count": 30,
   "id": "2ce984c8",
   "metadata": {
    "scrolled": true
   },
   "outputs": [
    {
     "name": "stdout",
     "output_type": "stream",
     "text": [
      "Model: \"sequential_3\"\n",
      "_________________________________________________________________\n",
      "Layer (type)                 Output Shape              Param #   \n",
      "=================================================================\n",
      "flatten_3 (Flatten)          (None, 784)               0         \n",
      "_________________________________________________________________\n",
      "dense_12 (Dense)             (None, 300)               235500    \n",
      "_________________________________________________________________\n",
      "dense_13 (Dense)             (None, 100)               30100     \n",
      "_________________________________________________________________\n",
      "dense_14 (Dense)             (None, 50)                5050      \n",
      "_________________________________________________________________\n",
      "dense_15 (Dense)             (None, 50)                2550      \n",
      "_________________________________________________________________\n",
      "dense_16 (Dense)             (None, 50)                2550      \n",
      "_________________________________________________________________\n",
      "dense_17 (Dense)             (None, 1)                 51        \n",
      "=================================================================\n",
      "Total params: 275,801\n",
      "Trainable params: 275,801\n",
      "Non-trainable params: 0\n",
      "_________________________________________________________________\n"
     ]
    }
   ],
   "source": [
    "model_B.summary()"
   ]
  },
  {
   "cell_type": "code",
   "execution_count": 36,
   "id": "e63e9b4d",
   "metadata": {},
   "outputs": [],
   "source": [
    "model_A = keras.models.load_model(\"my_model_A.h5\")\n",
    "# Takes out last layer (output layer)\n",
    "model_B_on_A = keras.models.Sequential(model_A.layers[:-1])\n",
    "# Add new output layer\n",
    "model_B_on_A.add(keras.layers.Dense(1, activation=\"sigmoid\"))"
   ]
  },
  {
   "cell_type": "markdown",
   "id": "0e86591a",
   "metadata": {},
   "source": [
    "Note that model_A and model_B_on_A now share some layers. When you train\n",
    "model_B_on_A, it will also affect model_A. If you want to avoid that, you need to clone\n",
    "model_A before you reuse its layers. To do this, you clone model A’s architecture with\n",
    "clone_model(), then copy its weights (since clone_model() does not clone the\n",
    "weights):"
   ]
  },
  {
   "cell_type": "code",
   "execution_count": 32,
   "id": "1179e52f",
   "metadata": {},
   "outputs": [],
   "source": [
    "model_A_clone = keras.models.clone_model(model_A)\n",
    "model_A_clone.set_weights(model_A.get_weights())"
   ]
  },
  {
   "cell_type": "markdown",
   "id": "8e8d1c6e",
   "metadata": {},
   "source": [
    "Now you could train model_B_on_A for task B, but since the new output layer was initialized\n",
    "randomly it will make large errors (at least during the first few epochs), so\n",
    "there will be large error gradients that may wreck the reused weights. To avoid this,\n",
    "one approach is to freeze the reused layers during the first few epochs, giving the new\n",
    "layer some time to learn reasonable weights. To do this, set every layer’s trainable\n",
    "attribute to False and compile the model\n",
    "\n",
    "**NOTE**: You must always compile your model after you freeze or unfreeze\n",
    "layers."
   ]
  },
  {
   "cell_type": "code",
   "execution_count": 42,
   "id": "2c42619a",
   "metadata": {},
   "outputs": [],
   "source": [
    "for layer in model_B_on_A.layers[:-1]:\n",
    "    layer.trainable = False\n",
    "\n",
    "model_B_on_A.compile(loss=\"binary_crossentropy\",\n",
    "                     optimizer=keras.optimizers.SGD(lr=1e-3),\n",
    "                     metrics=[\"accuracy\"])"
   ]
  },
  {
   "cell_type": "markdown",
   "id": "3df76947",
   "metadata": {},
   "source": [
    "Now you can train the model for a few epochs, then unfreeze the reused layers (which\n",
    "requires compiling the model again) and continue training to fine-tune the reused\n",
    "layers for task B. After unfreezing the reused layers, it is usually a good idea to reduce\n",
    "the learning rate, once again to avoid damaging the reused weights:"
   ]
  },
  {
   "cell_type": "code",
   "execution_count": 43,
   "id": "3f95c867",
   "metadata": {},
   "outputs": [
    {
     "name": "stdout",
     "output_type": "stream",
     "text": [
      "Epoch 1/4\n",
      "7/7 [==============================] - 0s 24ms/step - loss: 1.3082 - accuracy: 0.3750 - val_loss: 1.2271 - val_accuracy: 0.4391\n",
      "Epoch 2/4\n",
      "7/7 [==============================] - 0s 7ms/step - loss: 1.1867 - accuracy: 0.4300 - val_loss: 1.1255 - val_accuracy: 0.4878\n",
      "Epoch 3/4\n",
      "7/7 [==============================] - 0s 10ms/step - loss: 1.0821 - accuracy: 0.5050 - val_loss: 1.0306 - val_accuracy: 0.5162\n",
      "Epoch 4/4\n",
      "7/7 [==============================] - 0s 6ms/step - loss: 0.9849 - accuracy: 0.5600 - val_loss: 0.9415 - val_accuracy: 0.5578\n",
      "Epoch 1/16\n",
      "7/7 [==============================] - 0s 23ms/step - loss: 0.6899 - accuracy: 0.6700 - val_loss: 0.4638 - val_accuracy: 0.8114\n",
      "Epoch 2/16\n",
      "7/7 [==============================] - 0s 9ms/step - loss: 0.3777 - accuracy: 0.8850 - val_loss: 0.3428 - val_accuracy: 0.9077\n",
      "Epoch 3/16\n",
      "7/7 [==============================] - 0s 8ms/step - loss: 0.2807 - accuracy: 0.9600 - val_loss: 0.2748 - val_accuracy: 0.9351\n",
      "Epoch 4/16\n",
      "7/7 [==============================] - 0s 8ms/step - loss: 0.2230 - accuracy: 0.9700 - val_loss: 0.2310 - val_accuracy: 0.9544\n",
      "Epoch 5/16\n",
      "7/7 [==============================] - 0s 8ms/step - loss: 0.1845 - accuracy: 0.9700 - val_loss: 0.2002 - val_accuracy: 0.9665\n",
      "Epoch 6/16\n",
      "7/7 [==============================] - 0s 8ms/step - loss: 0.1567 - accuracy: 0.9850 - val_loss: 0.1774 - val_accuracy: 0.9726\n",
      "Epoch 7/16\n",
      "7/7 [==============================] - 0s 7ms/step - loss: 0.1362 - accuracy: 0.9850 - val_loss: 0.1598 - val_accuracy: 0.9777\n",
      "Epoch 8/16\n",
      "7/7 [==============================] - 0s 6ms/step - loss: 0.1204 - accuracy: 0.9900 - val_loss: 0.1454 - val_accuracy: 0.9817\n",
      "Epoch 9/16\n",
      "7/7 [==============================] - 0s 6ms/step - loss: 0.1073 - accuracy: 1.0000 - val_loss: 0.1333 - val_accuracy: 0.9828\n",
      "Epoch 10/16\n",
      "7/7 [==============================] - 0s 9ms/step - loss: 0.0965 - accuracy: 0.9950 - val_loss: 0.1242 - val_accuracy: 0.9838\n",
      "Epoch 11/16\n",
      "7/7 [==============================] - 0s 8ms/step - loss: 0.0884 - accuracy: 0.9950 - val_loss: 0.1168 - val_accuracy: 0.9848\n",
      "Epoch 12/16\n",
      "7/7 [==============================] - 0s 9ms/step - loss: 0.0817 - accuracy: 0.9950 - val_loss: 0.1099 - val_accuracy: 0.9858\n",
      "Epoch 13/16\n",
      "7/7 [==============================] - 0s 8ms/step - loss: 0.0755 - accuracy: 0.9950 - val_loss: 0.1042 - val_accuracy: 0.9878\n",
      "Epoch 14/16\n",
      "7/7 [==============================] - 0s 8ms/step - loss: 0.0705 - accuracy: 0.9950 - val_loss: 0.0991 - val_accuracy: 0.9878\n",
      "Epoch 15/16\n",
      "7/7 [==============================] - 0s 8ms/step - loss: 0.0660 - accuracy: 0.9950 - val_loss: 0.0947 - val_accuracy: 0.9888\n",
      "Epoch 16/16\n",
      "7/7 [==============================] - 0s 9ms/step - loss: 0.0621 - accuracy: 0.9950 - val_loss: 0.0907 - val_accuracy: 0.9888\n"
     ]
    }
   ],
   "source": [
    "history = model_B_on_A.fit(X_train_B, y_train_B, epochs=4,\n",
    "                           validation_data=(X_valid_B, y_valid_B))\n",
    "\n",
    "for layer in model_B_on_A.layers[:-1]:\n",
    "    layer.trainable = True\n",
    "\n",
    "model_B_on_A.compile(loss=\"binary_crossentropy\",\n",
    "                     optimizer=keras.optimizers.SGD(lr=1e-3),\n",
    "                     metrics=[\"accuracy\"])\n",
    "history = model_B_on_A.fit(X_train_B, y_train_B, epochs=16,\n",
    "                           validation_data=(X_valid_B, y_valid_B))"
   ]
  },
  {
   "cell_type": "markdown",
   "id": "2005156c",
   "metadata": {},
   "source": [
    "So, what's the final verdict?"
   ]
  },
  {
   "cell_type": "code",
   "execution_count": 44,
   "id": "23735b83",
   "metadata": {},
   "outputs": [
    {
     "name": "stdout",
     "output_type": "stream",
     "text": [
      "63/63 [==============================] - 0s 990us/step - loss: 0.0854 - accuracy: 0.9785\n"
     ]
    },
    {
     "data": {
      "text/plain": [
       "[0.08543381839990616, 0.9785000085830688]"
      ]
     },
     "execution_count": 44,
     "metadata": {},
     "output_type": "execute_result"
    }
   ],
   "source": [
    "model_B.evaluate(X_test_B, y_test_B)"
   ]
  },
  {
   "cell_type": "code",
   "execution_count": 45,
   "id": "3195e4a0",
   "metadata": {},
   "outputs": [
    {
     "name": "stdout",
     "output_type": "stream",
     "text": [
      "63/63 [==============================] - 0s 1ms/step - loss: 0.0839 - accuracy: 0.9915\n"
     ]
    },
    {
     "data": {
      "text/plain": [
       "[0.08385751396417618, 0.9915000200271606]"
      ]
     },
     "execution_count": 45,
     "metadata": {},
     "output_type": "execute_result"
    }
   ],
   "source": [
    "model_B_on_A.evaluate(X_test_B, y_test_B)"
   ]
  },
  {
   "cell_type": "markdown",
   "id": "bc1898e5",
   "metadata": {},
   "source": [
    "Great! We got quite a bit of transfer: the error rate dropped by a factor of 2.5!"
   ]
  },
  {
   "cell_type": "code",
   "execution_count": 47,
   "id": "7f0d2e45",
   "metadata": {
    "scrolled": true
   },
   "outputs": [
    {
     "data": {
      "text/plain": [
       "2.529411764705906"
      ]
     },
     "execution_count": 47,
     "metadata": {},
     "output_type": "execute_result"
    }
   ],
   "source": [
    "(100 - 97.85) / (100 - 99.15)"
   ]
  },
  {
   "cell_type": "markdown",
   "id": "507a5b11",
   "metadata": {},
   "source": [
    "Are you convinced? You shouldn’t be: I cheated! I tried many configurations until I\n",
    "found one that demonstrated a strong improvement. If you try to change the classes\n",
    "or the random seed, you will see that the improvement generally drops, or even vanishes\n",
    "or reverses. What I did is called “torturing the data until it confesses.”\n",
    "\n",
    "Why did I cheat? It turns out that transfer learning does not work very well with\n",
    "small dense networks, presumably because small networks learn few patterns, and\n",
    "dense networks learn very specific patterns, which are unlikely to be useful in other\n",
    "tasks. Transfer learning works best with deep convolutional neural networks, which\n",
    "tend to learn feature detectors that are much more general (especially in the lower\n",
    "layers). We will revisit transfer learning in Chapter 14, using the techniques we just\n",
    "discussed (and this time there will be no cheating, I promise!)."
   ]
  },
  {
   "cell_type": "markdown",
   "id": "e8eb4640",
   "metadata": {},
   "source": [
    "### Unsupervised Pretraining\n",
    "\n",
    "If you can gather plenty of unlabeled training data, you can try to use it to train\n",
    "an unsupervised model, such as an autoencoder or a generative adversarial network\n",
    "(see Chapter 17). Then you can reuse the lower layers of the autoencoder or the lower\n",
    "layers of the GAN’s discriminator, add the output layer for your task on top, and finetune\n",
    "the final network using supervised learning (i.e., with the labeled training\n",
    "examples).\n",
    "\n",
    "Unsupervised pretraining (today typically using autoencoders or\n",
    "GANs rather than RBMs) is still a good option when you have a complex task to\n",
    "solve, no similar model you can reuse, and little labeled training data but plenty of\n",
    "unlabeled training data.\n",
    "\n",
    "![](images/reuse_2.png)"
   ]
  },
  {
   "cell_type": "markdown",
   "id": "0b3c244c",
   "metadata": {},
   "source": [
    "### Pretraining on an Auxiliary Task\n",
    "\n",
    "If you do not have much labeled training data, one last option is to train a first neural\n",
    "network on an auxiliary task for which you can easily obtain or generate labeled\n",
    "training data, then reuse the lower layers of that network for your actual task. The\n",
    "first neural network’s lower layers will learn feature detectors that will likely be reusable\n",
    "by the second neural network.\n",
    "\n",
    "For example, if you want to build a system to recognize faces, you may only have a\n",
    "few pictures of each individual—clearly not enough to train a good classifier. Gathering\n",
    "hundreds of pictures of each person would not be practical. You could, however,\n",
    "gather a lot of pictures of random people on the web and train a first neural network\n",
    "to detect whether or not two different pictures feature the same person. Such a\n",
    "network would learn good feature detectors for faces, so reusing its lower layers\n",
    "would allow you to train a good face classifier that uses little training data.\n",
    "\n",
    "**TIP**: Self-supervised learning is when you automatically generate the\n",
    "labels from the data itself, then you train a model on the resulting\n",
    "“labeled” dataset using supervised learning techniques. Since this\n",
    "approach requires no human labeling whatsoever, it is best classified\n",
    "as a form of unsupervised learning."
   ]
  },
  {
   "cell_type": "markdown",
   "id": "362c5ea0",
   "metadata": {},
   "source": [
    "# Faster Optimizers"
   ]
  },
  {
   "cell_type": "markdown",
   "id": "54a259c1",
   "metadata": {},
   "source": [
    "## Momentum Optimisation\n",
    "\n",
    "**TIP**: Due to the momentum, the optimizer may overshoot a bit, then\n",
    "come back, overshoot again, and oscillate like this many times\n",
    "before stabilizing at the minimum. This is one of the reasons it’s\n",
    "good to have a bit of friction in the system: it gets rid of these oscillations\n",
    "and thus speeds up convergence.\n",
    "\n",
    "The one drawback of momentum optimization is that it adds yet another hyperparameter\n",
    "to tune. However, the momentum value of 0.9 usually works well in practice\n",
    "and almost always goes faster than regular Gradient Descent."
   ]
  },
  {
   "cell_type": "code",
   "execution_count": 3,
   "id": "c7c84135",
   "metadata": {},
   "outputs": [],
   "source": [
    "optimizer = keras.optimizers.SGD(lr=0.001, momentum=0.9)"
   ]
  },
  {
   "cell_type": "markdown",
   "id": "6bbcfd3d",
   "metadata": {},
   "source": [
    "## Nesterov Accelerated Gradient\n",
    "\n",
    "NAG is generally faster than regular momentum optimization"
   ]
  },
  {
   "cell_type": "code",
   "execution_count": 4,
   "id": "afbaec3b",
   "metadata": {},
   "outputs": [],
   "source": [
    "optimizer = keras.optimizers.SGD(lr=0.001, momentum=0.9, nesterov=True)"
   ]
  },
  {
   "cell_type": "markdown",
   "id": "cff777bb",
   "metadata": {},
   "source": [
    "![](images/momentum_1.png)"
   ]
  },
  {
   "cell_type": "markdown",
   "id": "69041768",
   "metadata": {},
   "source": [
    "## AdaGrad\n",
    "\n",
    "In short, this algorithm decays the learning rate, but it does so faster for steep dimensions\n",
    "than for dimensions with gentler slopes. This is called an adaptive learning rate.\n",
    "It helps point the resulting updates more directly toward the global optimum (see\n",
    "Figure 11-7). One additional benefit is that it requires much less tuning of the learning\n",
    "rate hyperparameter η.\n",
    "\n",
    "AdaGrad frequently performs well for simple quadratic problems, but it often stops\n",
    "too early when training neural networks. The learning rate gets scaled down so much\n",
    "that the algorithm ends up stopping entirely before reaching the global optimum. **So\n",
    "even though Keras has an Adagrad optimizer, you should not use it to train deep neural\n",
    "networks (it may be efficient for simpler tasks such as Linear Regression, though).**\n",
    "Still, understanding AdaGrad is helpful to grasp the other adaptive learning rate\n",
    "optimizers.\n",
    "\n",
    "![](images/ada_grad.png)"
   ]
  },
  {
   "cell_type": "code",
   "execution_count": 5,
   "id": "40f71ce2",
   "metadata": {},
   "outputs": [],
   "source": [
    "optimizer = keras.optimizers.Adagrad(lr=0.001)"
   ]
  },
  {
   "cell_type": "markdown",
   "id": "accdd7e6",
   "metadata": {},
   "source": [
    "## RMSProp\n",
    "\n",
    "The decay rate β is typically set to 0.9. Yes, it is once again a new hyperparameter, but\n",
    "this default value often works well, so you may not need to tune it at all.\n",
    "\n",
    "Note that the rho argument corresponds to β in Equation 11-7. Except on very simple\n",
    "problems, this optimizer almost always performs much better than AdaGrad. In fact,\n",
    "it was the preferred optimization algorithm of many researchers until Adam optimization\n",
    "came around."
   ]
  },
  {
   "cell_type": "code",
   "execution_count": 6,
   "id": "8f3e4a74",
   "metadata": {},
   "outputs": [],
   "source": [
    "optimizer = keras.optimizers.RMSprop(lr=0.001, rho=0.9)"
   ]
  },
  {
   "cell_type": "markdown",
   "id": "8dd757df",
   "metadata": {},
   "source": [
    "## Adam Optimization\n",
    "\n",
    "Adam, which stands for adaptive moment estimation, combines the ideas of momentum\n",
    "optimization and RMSProp: just like momentum optimization, it keeps track of\n",
    "an exponentially decaying average of past gradients; and just like RMSProp, it keeps\n",
    "track of an exponentially decaying average of past squared gradients (see Equation\n",
    "11-8).\n",
    "\n",
    "Since Adam is an adaptive learning rate algorithm (like AdaGrad and RMSProp), it\n",
    "requires less tuning of the learning rate hyperparameter η. You can often use the\n",
    "default value η = 0.001, making Adam even easier to use than Gradient Descent."
   ]
  },
  {
   "cell_type": "code",
   "execution_count": 7,
   "id": "9ac33ad0",
   "metadata": {},
   "outputs": [],
   "source": [
    "optimizer = keras.optimizers.Adam(lr=0.001, beta_1=0.9, beta_2=0.999)"
   ]
  },
  {
   "cell_type": "markdown",
   "id": "84838286",
   "metadata": {},
   "source": [
    "## Adamax Optimization"
   ]
  },
  {
   "cell_type": "code",
   "execution_count": 8,
   "id": "2d897386",
   "metadata": {},
   "outputs": [],
   "source": [
    "optimizer = keras.optimizers.Adamax(lr=0.001, beta_1=0.9, beta_2=0.999)"
   ]
  },
  {
   "cell_type": "markdown",
   "id": "5b5afa68",
   "metadata": {},
   "source": [
    "## Nadam Optimization"
   ]
  },
  {
   "cell_type": "code",
   "execution_count": 9,
   "id": "f5dff4e0",
   "metadata": {},
   "outputs": [],
   "source": [
    "optimizer = keras.optimizers.Nadam(lr=0.001, beta_1=0.9, beta_2=0.999)"
   ]
  },
  {
   "cell_type": "markdown",
   "id": "c9b7aa48",
   "metadata": {},
   "source": [
    "**WARNING**: Adaptive optimization methods (including RMSProp, Adam, and\n",
    "Nadam optimization) are often great, converging fast to a good solution.\n",
    "However, a 2017 paper20 by Ashia C. Wilson et al. showed\n",
    "that they can lead to solutions that generalize poorly on some datasets.\n",
    "So when you are disappointed by your model’s performance,\n",
    "try using plain Nesterov Accelerated Gradient instead: your dataset\n",
    "may just be allergic to adaptive gradients. Also check out the latest\n",
    "research, because it’s moving fast."
   ]
  },
  {
   "cell_type": "markdown",
   "id": "707ddf0b",
   "metadata": {},
   "source": [
    "All the optimization techniques discussed so far only rely on the first-order partial\n",
    "derivatives (Jacobians). The optimization literature also contains amazing algorithms\n",
    "based on the second-order partial derivatives (the Hessians, which are the partial\n",
    "derivatives of the Jacobians). Unfortunately, these algorithms are very hard to apply\n",
    "to deep neural networks because there are n2 Hessians per output (where n is the\n",
    "number of parameters), as opposed to just n Jacobians per output. Since DNNs typically\n",
    "have tens of thousands of parameters, the second-order optimization algorithms\n",
    "often don’t even fit in memory, and even when they do, computing the Hessians is\n",
    "just too slow."
   ]
  },
  {
   "cell_type": "markdown",
   "id": "850d5bf0",
   "metadata": {},
   "source": [
    "![](images/sparse_models.png)"
   ]
  },
  {
   "cell_type": "markdown",
   "id": "895959ed",
   "metadata": {},
   "source": [
    "![](images/compare_opt.png)"
   ]
  },
  {
   "cell_type": "markdown",
   "id": "3c2ac267",
   "metadata": {},
   "source": [
    "## Learning Rate Scheduling"
   ]
  },
  {
   "cell_type": "markdown",
   "id": "9eaa401a",
   "metadata": {},
   "source": [
    "![](images/learning_curves.png)"
   ]
  },
  {
   "cell_type": "markdown",
   "id": "0a4f70c8",
   "metadata": {},
   "source": [
    "**You can find a good learning rate by training the\n",
    "model for a few hundred iterations, exponentially increasing the learning rate from a\n",
    "very small value to a very large value, and then looking at the learning curve and\n",
    "picking a learning rate slightly lower than the one at which the learning curve starts\n",
    "shooting back up. You can then reinitialize your model and train it with that learning\n",
    "rate.**\n",
    "\n",
    "**But you can do better than a constant learning rate: if you start with a large learning\n",
    "rate and then reduce it once training stops making fast progress, you can reach a\n",
    "good solution faster than with the optimal constant learning rate.** There are many different\n",
    "strategies to reduce the learning rate during training. It can also be beneficial to\n",
    "start with a low learning rate, increase it, then drop it again. These strategies are\n",
    "called learning schedules"
   ]
  },
  {
   "cell_type": "markdown",
   "id": "2bd8af29",
   "metadata": {},
   "source": [
    "### Power Scheduling\n",
    "lr = lr0 / (1 + steps / s)**c\n",
    "\n",
    "- Keras uses c=1 and s = 1 / decay\n",
    "\n",
    "Set the learning rate to a function of the iteration number t: η(t) = η0 / (1 + t/s)c.\n",
    "The initial learning rate η0, the power c (typically set to 1), and the steps s are\n",
    "hyperparameters. The learning rate drops at each step. After s steps, it is down to\n",
    "η0 / 2. After s more steps, it is down to η0 / 3, then it goes down to η0 / 4, then η0 /\n",
    "5, and so on. As you can see, this schedule first drops quickly, then more and\n",
    "more slowly. Of course, power scheduling requires tuning η0 and s (and possibly\n",
    "c)."
   ]
  },
  {
   "cell_type": "code",
   "execution_count": 22,
   "id": "01dfe4a2",
   "metadata": {},
   "outputs": [],
   "source": [
    "optimizer = keras.optimizers.SGD(lr=0.01, decay=1e-4)"
   ]
  },
  {
   "cell_type": "code",
   "execution_count": 23,
   "id": "c6162171",
   "metadata": {},
   "outputs": [],
   "source": [
    "model = keras.models.Sequential([\n",
    "    keras.layers.Flatten(input_shape=[28, 28]),\n",
    "    keras.layers.Dense(300, activation=\"selu\", kernel_initializer=\"lecun_normal\"),\n",
    "    keras.layers.Dense(100, activation=\"selu\", kernel_initializer=\"lecun_normal\"),\n",
    "    keras.layers.Dense(10, activation=\"softmax\")\n",
    "])\n",
    "model.compile(loss=\"sparse_categorical_crossentropy\", optimizer=optimizer, metrics=[\"accuracy\"])"
   ]
  },
  {
   "cell_type": "code",
   "execution_count": 24,
   "id": "62688b50",
   "metadata": {
    "scrolled": false
   },
   "outputs": [
    {
     "name": "stdout",
     "output_type": "stream",
     "text": [
      "Epoch 1/25\n",
      "1719/1719 [==============================] - 3s 2ms/step - loss: 0.4900 - accuracy: 0.8274 - val_loss: 0.4046 - val_accuracy: 0.8672\n",
      "Epoch 2/25\n",
      "1719/1719 [==============================] - 3s 2ms/step - loss: 0.3796 - accuracy: 0.8653 - val_loss: 0.3727 - val_accuracy: 0.8726\n",
      "Epoch 3/25\n",
      "1719/1719 [==============================] - 3s 2ms/step - loss: 0.3462 - accuracy: 0.8767 - val_loss: 0.3740 - val_accuracy: 0.8734\n",
      "Epoch 4/25\n",
      "1719/1719 [==============================] - 3s 2ms/step - loss: 0.3248 - accuracy: 0.8837 - val_loss: 0.3507 - val_accuracy: 0.8816\n",
      "Epoch 5/25\n",
      "1719/1719 [==============================] - 3s 2ms/step - loss: 0.3090 - accuracy: 0.8908 - val_loss: 0.3441 - val_accuracy: 0.8766\n",
      "Epoch 6/25\n",
      "1719/1719 [==============================] - 3s 2ms/step - loss: 0.2951 - accuracy: 0.8953 - val_loss: 0.3438 - val_accuracy: 0.8818\n",
      "Epoch 7/25\n",
      "1719/1719 [==============================] - 3s 2ms/step - loss: 0.2848 - accuracy: 0.8987 - val_loss: 0.3367 - val_accuracy: 0.8876\n",
      "Epoch 8/25\n",
      "1719/1719 [==============================] - 3s 2ms/step - loss: 0.2755 - accuracy: 0.9019 - val_loss: 0.3412 - val_accuracy: 0.8822\n",
      "Epoch 9/25\n",
      "1719/1719 [==============================] - 3s 2ms/step - loss: 0.2670 - accuracy: 0.9046 - val_loss: 0.3298 - val_accuracy: 0.8828\n",
      "Epoch 10/25\n",
      "1719/1719 [==============================] - 3s 2ms/step - loss: 0.2599 - accuracy: 0.9075 - val_loss: 0.3288 - val_accuracy: 0.8864\n",
      "Epoch 11/25\n",
      "1719/1719 [==============================] - 3s 2ms/step - loss: 0.2540 - accuracy: 0.9094 - val_loss: 0.3270 - val_accuracy: 0.8864\n",
      "Epoch 12/25\n",
      "1719/1719 [==============================] - 3s 2ms/step - loss: 0.2481 - accuracy: 0.9123 - val_loss: 0.3350 - val_accuracy: 0.8832\n",
      "Epoch 13/25\n",
      "1719/1719 [==============================] - 3s 2ms/step - loss: 0.2425 - accuracy: 0.9143 - val_loss: 0.3256 - val_accuracy: 0.8862\n",
      "Epoch 14/25\n",
      "1719/1719 [==============================] - 3s 2ms/step - loss: 0.2386 - accuracy: 0.9156 - val_loss: 0.3269 - val_accuracy: 0.8888\n",
      "Epoch 15/25\n",
      "1719/1719 [==============================] - 3s 2ms/step - loss: 0.2338 - accuracy: 0.9172 - val_loss: 0.3235 - val_accuracy: 0.8874\n",
      "Epoch 16/25\n",
      "1719/1719 [==============================] - 3s 2ms/step - loss: 0.2297 - accuracy: 0.9192 - val_loss: 0.3200 - val_accuracy: 0.8896\n",
      "Epoch 17/25\n",
      "1719/1719 [==============================] - 3s 2ms/step - loss: 0.2260 - accuracy: 0.9206 - val_loss: 0.3243 - val_accuracy: 0.8882\n",
      "Epoch 18/25\n",
      "1719/1719 [==============================] - 3s 2ms/step - loss: 0.2222 - accuracy: 0.9221 - val_loss: 0.3186 - val_accuracy: 0.8918\n",
      "Epoch 19/25\n",
      "1719/1719 [==============================] - 3s 2ms/step - loss: 0.2190 - accuracy: 0.9231 - val_loss: 0.3232 - val_accuracy: 0.8874\n",
      "Epoch 20/25\n",
      "1719/1719 [==============================] - 3s 2ms/step - loss: 0.2157 - accuracy: 0.9256 - val_loss: 0.3192 - val_accuracy: 0.8882\n",
      "Epoch 21/25\n",
      "1719/1719 [==============================] - 3s 2ms/step - loss: 0.2123 - accuracy: 0.9262 - val_loss: 0.3201 - val_accuracy: 0.8870\n",
      "Epoch 22/25\n",
      "1719/1719 [==============================] - 3s 2ms/step - loss: 0.2098 - accuracy: 0.9265 - val_loss: 0.3167 - val_accuracy: 0.8930\n",
      "Epoch 23/25\n",
      "1719/1719 [==============================] - 3s 2ms/step - loss: 0.2071 - accuracy: 0.9282 - val_loss: 0.3187 - val_accuracy: 0.8896\n",
      "Epoch 24/25\n",
      "1719/1719 [==============================] - 3s 2ms/step - loss: 0.2041 - accuracy: 0.9293 - val_loss: 0.3187 - val_accuracy: 0.8908\n",
      "Epoch 25/25\n",
      "1719/1719 [==============================] - 3s 2ms/step - loss: 0.2021 - accuracy: 0.9299 - val_loss: 0.3179 - val_accuracy: 0.8926\n"
     ]
    }
   ],
   "source": [
    "n_epochs = 25\n",
    "history = model.fit(X_train_scaled, y_train, epochs=n_epochs,\n",
    "                    validation_data=(X_valid_scaled, y_valid))"
   ]
  },
  {
   "cell_type": "code",
   "execution_count": 25,
   "id": "3368f2c3",
   "metadata": {},
   "outputs": [
    {
     "data": {
      "image/png": "[encoded data removed]",
      "text/plain": [
       "<Figure size 432x288 with 1 Axes>"
      ]
     },
     "metadata": {
      "needs_background": "light"
     },
     "output_type": "display_data"
    }
   ],
   "source": [
    "import math\n",
    "\n",
    "learning_rate = 0.01\n",
    "decay = 1e-4\n",
    "batch_size = 32\n",
    "n_steps_per_epoch = math.ceil(len(X_train) / batch_size)\n",
    "epochs = np.arange(n_epochs)\n",
    "lrs = learning_rate / (1 + decay * epochs * n_steps_per_epoch)\n",
    "\n",
    "plt.plot(epochs, lrs,  \"o-\")\n",
    "plt.axis([0, n_epochs - 1, 0, 0.01])\n",
    "plt.xlabel(\"Epoch\")\n",
    "plt.ylabel(\"Learning Rate\")\n",
    "plt.title(\"Power Scheduling\", fontsize=14)\n",
    "plt.grid(True)\n",
    "plt.show()"
   ]
  },
  {
   "cell_type": "markdown",
   "id": "19b20d96",
   "metadata": {},
   "source": [
    "## Exponential Scheduling \n",
    "\n",
    "lr = lr0 * 0.1**(epoch / s)"
   ]
  },
  {
   "cell_type": "code",
   "execution_count": 26,
   "id": "06fd41dd",
   "metadata": {},
   "outputs": [],
   "source": [
    "def exponential_decay_fn(epoch):\n",
    "    return 0.01 * 0.1**(epoch / 20)"
   ]
  },
  {
   "cell_type": "code",
   "execution_count": 27,
   "id": "0dd0ff45",
   "metadata": {},
   "outputs": [],
   "source": [
    "def exponential_decay(lr0, s):\n",
    "    def exponential_decay_fn(epoch):\n",
    "        return lr0 * 0.1**(epoch / s)\n",
    "    return exponential_decay_fn\n",
    "\n",
    "exponential_decay_fn = exponential_decay(lr0=0.01, s=20)"
   ]
  },
  {
   "cell_type": "code",
   "execution_count": 28,
   "id": "976e8609",
   "metadata": {},
   "outputs": [],
   "source": [
    "model = keras.models.Sequential([\n",
    "    keras.layers.Flatten(input_shape=[28, 28]),\n",
    "    keras.layers.Dense(300, activation=\"selu\", kernel_initializer=\"lecun_normal\"),\n",
    "    keras.layers.Dense(100, activation=\"selu\", kernel_initializer=\"lecun_normal\"),\n",
    "    keras.layers.Dense(10, activation=\"softmax\")\n",
    "])\n",
    "model.compile(loss=\"sparse_categorical_crossentropy\", optimizer=\"nadam\", metrics=[\"accuracy\"])\n",
    "n_epochs = 25"
   ]
  },
  {
   "cell_type": "code",
   "execution_count": 29,
   "id": "b8ed189d",
   "metadata": {
    "scrolled": true
   },
   "outputs": [
    {
     "name": "stdout",
     "output_type": "stream",
     "text": [
      "Epoch 1/25\n",
      "1719/1719 [==============================] - 6s 4ms/step - loss: 0.8868 - accuracy: 0.7533 - val_loss: 1.0318 - val_accuracy: 0.7572\n",
      "Epoch 2/25\n",
      "1719/1719 [==============================] - 5s 3ms/step - loss: 0.7487 - accuracy: 0.7910 - val_loss: 0.7331 - val_accuracy: 0.8116\n",
      "Epoch 3/25\n",
      "1719/1719 [==============================] - 6s 3ms/step - loss: 0.6645 - accuracy: 0.8145 - val_loss: 0.7652 - val_accuracy: 0.7806\n",
      "Epoch 4/25\n",
      "1719/1719 [==============================] - 5s 3ms/step - loss: 0.6245 - accuracy: 0.8222 - val_loss: 0.5193 - val_accuracy: 0.8520\n",
      "Epoch 5/25\n",
      "1719/1719 [==============================] - 5s 3ms/step - loss: 0.5598 - accuracy: 0.8396 - val_loss: 0.5488 - val_accuracy: 0.8482\n",
      "Epoch 6/25\n",
      "1719/1719 [==============================] - 5s 3ms/step - loss: 0.4865 - accuracy: 0.8547 - val_loss: 0.6547 - val_accuracy: 0.8534\n",
      "Epoch 7/25\n",
      "1719/1719 [==============================] - 5s 3ms/step - loss: 0.5206 - accuracy: 0.8581 - val_loss: 0.5039 - val_accuracy: 0.8574\n",
      "Epoch 8/25\n",
      "1719/1719 [==============================] - 5s 3ms/step - loss: 0.4299 - accuracy: 0.8706 - val_loss: 0.4878 - val_accuracy: 0.8638\n",
      "Epoch 9/25\n",
      "1719/1719 [==============================] - 6s 3ms/step - loss: 0.3929 - accuracy: 0.8804 - val_loss: 0.4561 - val_accuracy: 0.8690\n",
      "Epoch 10/25\n",
      "1719/1719 [==============================] - 5s 3ms/step - loss: 0.3638 - accuracy: 0.8861 - val_loss: 0.4758 - val_accuracy: 0.8744\n",
      "Epoch 11/25\n",
      "1719/1719 [==============================] - 5s 3ms/step - loss: 0.3391 - accuracy: 0.8929 - val_loss: 0.4449 - val_accuracy: 0.8798\n",
      "Epoch 12/25\n",
      "1719/1719 [==============================] - 5s 3ms/step - loss: 0.3172 - accuracy: 0.8995 - val_loss: 0.4134 - val_accuracy: 0.8788\n",
      "Epoch 13/25\n",
      "1719/1719 [==============================] - 5s 3ms/step - loss: 0.2951 - accuracy: 0.9062 - val_loss: 0.4480 - val_accuracy: 0.8794\n",
      "Epoch 14/25\n",
      "1719/1719 [==============================] - 5s 3ms/step - loss: 0.2670 - accuracy: 0.9132 - val_loss: 0.4321 - val_accuracy: 0.8858\n",
      "Epoch 15/25\n",
      "1719/1719 [==============================] - 5s 3ms/step - loss: 0.2461 - accuracy: 0.9201 - val_loss: 0.4385 - val_accuracy: 0.8892\n",
      "Epoch 16/25\n",
      "1719/1719 [==============================] - 5s 3ms/step - loss: 0.2341 - accuracy: 0.9248 - val_loss: 0.4283 - val_accuracy: 0.8888\n",
      "Epoch 17/25\n",
      "1719/1719 [==============================] - 5s 3ms/step - loss: 0.2199 - accuracy: 0.9296 - val_loss: 0.4657 - val_accuracy: 0.8856\n",
      "Epoch 18/25\n",
      "1719/1719 [==============================] - 5s 3ms/step - loss: 0.2006 - accuracy: 0.9351 - val_loss: 0.4579 - val_accuracy: 0.8870\n",
      "Epoch 19/25\n",
      "1719/1719 [==============================] - 5s 3ms/step - loss: 0.1855 - accuracy: 0.9399 - val_loss: 0.4303 - val_accuracy: 0.8904\n",
      "Epoch 20/25\n",
      "1719/1719 [==============================] - 5s 3ms/step - loss: 0.1693 - accuracy: 0.9452 - val_loss: 0.4463 - val_accuracy: 0.8894\n",
      "Epoch 21/25\n",
      "1719/1719 [==============================] - 5s 3ms/step - loss: 0.1613 - accuracy: 0.9488 - val_loss: 0.4709 - val_accuracy: 0.8876\n",
      "Epoch 22/25\n",
      "1719/1719 [==============================] - 5s 3ms/step - loss: 0.1483 - accuracy: 0.9528 - val_loss: 0.4977 - val_accuracy: 0.8954\n",
      "Epoch 23/25\n",
      "1719/1719 [==============================] - 5s 3ms/step - loss: 0.1350 - accuracy: 0.9579 - val_loss: 0.5145 - val_accuracy: 0.8924\n",
      "Epoch 24/25\n",
      "1719/1719 [==============================] - 5s 3ms/step - loss: 0.1265 - accuracy: 0.9610 - val_loss: 0.5068 - val_accuracy: 0.8906\n",
      "Epoch 25/25\n",
      "1719/1719 [==============================] - 5s 3ms/step - loss: 0.1165 - accuracy: 0.9653 - val_loss: 0.5610 - val_accuracy: 0.8952\n"
     ]
    }
   ],
   "source": [
    "lr_scheduler = keras.callbacks.LearningRateScheduler(exponential_decay_fn)\n",
    "history = model.fit(X_train_scaled, y_train, epochs=n_epochs,\n",
    "                    validation_data=(X_valid_scaled, y_valid),\n",
    "                    callbacks=[lr_scheduler])"
   ]
  },
  {
   "cell_type": "code",
   "execution_count": 30,
   "id": "c78166c1",
   "metadata": {},
   "outputs": [
    {
     "data": {
      "image/png": "[encoded data removed]",
      "text/plain": [
       "<Figure size 432x288 with 1 Axes>"
      ]
     },
     "metadata": {
      "needs_background": "light"
     },
     "output_type": "display_data"
    }
   ],
   "source": [
    "plt.plot(history.epoch, history.history[\"lr\"], \"o-\")\n",
    "plt.axis([0, n_epochs - 1, 0, 0.011])\n",
    "plt.xlabel(\"Epoch\")\n",
    "plt.ylabel(\"Learning Rate\")\n",
    "plt.title(\"Exponential Scheduling\", fontsize=14)\n",
    "plt.grid(True)\n",
    "plt.show()"
   ]
  },
  {
   "cell_type": "markdown",
   "id": "4eb3cfbf",
   "metadata": {},
   "source": [
    "The schedule function can take the current learning rate as a second argument:"
   ]
  },
  {
   "cell_type": "code",
   "execution_count": 31,
   "id": "408c6732",
   "metadata": {},
   "outputs": [],
   "source": [
    "def exponential_decay_fn(epoch, lr):\n",
    "    return lr * 0.1**(1 / 20)"
   ]
  },
  {
   "cell_type": "markdown",
   "id": "21e9ed07",
   "metadata": {},
   "source": [
    "If you want to update the learning rate at each iteration rather than at each epoch, you must write your own callback class:"
   ]
  },
  {
   "cell_type": "code",
   "execution_count": 32,
   "id": "22204a92",
   "metadata": {},
   "outputs": [
    {
     "name": "stdout",
     "output_type": "stream",
     "text": [
      "Epoch 1/25\n",
      "1719/1719 [==============================] - 6s 3ms/step - loss: 0.7826 - accuracy: 0.7677 - val_loss: 0.8042 - val_accuracy: 0.7806\n",
      "Epoch 2/25\n",
      "1719/1719 [==============================] - 6s 3ms/step - loss: 0.6862 - accuracy: 0.7964 - val_loss: 0.5418 - val_accuracy: 0.8308\n",
      "Epoch 3/25\n",
      "1719/1719 [==============================] - 6s 3ms/step - loss: 0.6081 - accuracy: 0.8184 - val_loss: 0.7503 - val_accuracy: 0.7978\n",
      "Epoch 4/25\n",
      "1719/1719 [==============================] - 6s 3ms/step - loss: 0.5530 - accuracy: 0.8363 - val_loss: 0.4967 - val_accuracy: 0.8514\n",
      "Epoch 5/25\n",
      "1719/1719 [==============================] - 6s 3ms/step - loss: 0.5092 - accuracy: 0.8450 - val_loss: 0.4771 - val_accuracy: 0.8590\n",
      "Epoch 6/25\n",
      "1719/1719 [==============================] - 6s 3ms/step - loss: 0.4585 - accuracy: 0.8607 - val_loss: 0.4567 - val_accuracy: 0.8588\n",
      "Epoch 7/25\n",
      "1719/1719 [==============================] - 6s 4ms/step - loss: 0.4321 - accuracy: 0.8688 - val_loss: 0.4569 - val_accuracy: 0.8610\n",
      "Epoch 8/25\n",
      "1719/1719 [==============================] - 6s 4ms/step - loss: 0.3973 - accuracy: 0.8770 - val_loss: 0.5700 - val_accuracy: 0.8454\n",
      "Epoch 9/25\n",
      "1719/1719 [==============================] - 7s 4ms/step - loss: 0.3697 - accuracy: 0.8831 - val_loss: 0.4848 - val_accuracy: 0.8664\n",
      "Epoch 10/25\n",
      "1719/1719 [==============================] - 7s 4ms/step - loss: 0.3502 - accuracy: 0.8916 - val_loss: 0.4602 - val_accuracy: 0.8722\n",
      "Epoch 11/25\n",
      "1719/1719 [==============================] - 6s 4ms/step - loss: 0.3259 - accuracy: 0.8963 - val_loss: 0.4380 - val_accuracy: 0.8720\n",
      "Epoch 12/25\n",
      "1719/1719 [==============================] - 6s 4ms/step - loss: 0.3104 - accuracy: 0.9009 - val_loss: 0.4703 - val_accuracy: 0.8678\n",
      "Epoch 13/25\n",
      "1719/1719 [==============================] - 6s 4ms/step - loss: 0.2877 - accuracy: 0.9081 - val_loss: 0.4494 - val_accuracy: 0.8740\n",
      "Epoch 14/25\n",
      "1719/1719 [==============================] - 6s 4ms/step - loss: 0.2719 - accuracy: 0.9122 - val_loss: 0.4394 - val_accuracy: 0.8744\n",
      "Epoch 15/25\n",
      "1719/1719 [==============================] - 6s 4ms/step - loss: 0.2591 - accuracy: 0.9180 - val_loss: 0.4625 - val_accuracy: 0.8756\n",
      "Epoch 16/25\n",
      "1719/1719 [==============================] - 6s 4ms/step - loss: 0.2440 - accuracy: 0.9232 - val_loss: 0.4821 - val_accuracy: 0.8784\n",
      "Epoch 17/25\n",
      "1719/1719 [==============================] - 6s 4ms/step - loss: 0.2273 - accuracy: 0.9268 - val_loss: 0.4784 - val_accuracy: 0.8792\n",
      "Epoch 18/25\n",
      "1719/1719 [==============================] - 6s 4ms/step - loss: 0.2144 - accuracy: 0.9313 - val_loss: 0.4675 - val_accuracy: 0.8822\n",
      "Epoch 19/25\n",
      "1719/1719 [==============================] - 6s 4ms/step - loss: 0.2050 - accuracy: 0.9344 - val_loss: 0.4622 - val_accuracy: 0.8818\n",
      "Epoch 20/25\n",
      "1719/1719 [==============================] - 6s 4ms/step - loss: 0.1930 - accuracy: 0.9388 - val_loss: 0.5181 - val_accuracy: 0.8846\n",
      "Epoch 21/25\n",
      "1719/1719 [==============================] - 6s 4ms/step - loss: 0.1760 - accuracy: 0.9416 - val_loss: 0.4780 - val_accuracy: 0.8890\n",
      "Epoch 22/25\n",
      "1719/1719 [==============================] - 6s 4ms/step - loss: 0.1553 - accuracy: 0.9445 - val_loss: 0.4888 - val_accuracy: 0.8852\n",
      "Epoch 23/25\n",
      "1719/1719 [==============================] - 6s 4ms/step - loss: 0.1443 - accuracy: 0.9477 - val_loss: 0.5046 - val_accuracy: 0.8876\n",
      "Epoch 24/25\n",
      "1719/1719 [==============================] - 6s 4ms/step - loss: 0.1364 - accuracy: 0.9498 - val_loss: 0.5297 - val_accuracy: 0.8936\n",
      "Epoch 25/25\n",
      "1719/1719 [==============================] - 6s 4ms/step - loss: 0.1275 - accuracy: 0.9526 - val_loss: 0.5645 - val_accuracy: 0.8854\n"
     ]
    }
   ],
   "source": [
    "K = keras.backend\n",
    "\n",
    "class ExponentialDecay(keras.callbacks.Callback):\n",
    "    def __init__(self, s=40000):\n",
    "        super().__init__()\n",
    "        self.s = s\n",
    "\n",
    "    def on_batch_begin(self, batch, logs=None):\n",
    "        # Note: the `batch` argument is reset at each epoch\n",
    "        lr = K.get_value(self.model.optimizer.lr)\n",
    "        K.set_value(self.model.optimizer.lr, lr * 0.1**(1 / s))\n",
    "\n",
    "    def on_epoch_end(self, epoch, logs=None):\n",
    "        logs = logs or {}\n",
    "        logs['lr'] = K.get_value(self.model.optimizer.lr)\n",
    "\n",
    "model = keras.models.Sequential([\n",
    "    keras.layers.Flatten(input_shape=[28, 28]),\n",
    "    keras.layers.Dense(300, activation=\"selu\", kernel_initializer=\"lecun_normal\"),\n",
    "    keras.layers.Dense(100, activation=\"selu\", kernel_initializer=\"lecun_normal\"),\n",
    "    keras.layers.Dense(10, activation=\"softmax\")\n",
    "])\n",
    "lr0 = 0.01\n",
    "optimizer = keras.optimizers.Nadam(lr=lr0)\n",
    "model.compile(loss=\"sparse_categorical_crossentropy\", optimizer=optimizer, metrics=[\"accuracy\"])\n",
    "n_epochs = 25\n",
    "\n",
    "s = 20 * len(X_train) // 32 # number of steps in 20 epochs (batch size = 32)\n",
    "exp_decay = ExponentialDecay(s)\n",
    "history = model.fit(X_train_scaled, y_train, epochs=n_epochs,\n",
    "                    validation_data=(X_valid_scaled, y_valid),\n",
    "                    callbacks=[exp_decay])"
   ]
  },
  {
   "cell_type": "code",
   "execution_count": 33,
   "id": "720e0c2e",
   "metadata": {},
   "outputs": [],
   "source": [
    "n_steps = n_epochs * len(X_train) // 32\n",
    "steps = np.arange(n_steps)\n",
    "lrs = lr0 * 0.1**(steps / s)"
   ]
  },
  {
   "cell_type": "code",
   "execution_count": 34,
   "id": "e7dddca0",
   "metadata": {},
   "outputs": [
    {
     "data": {
      "image/png": "[encoded data removed]",
      "text/plain": [
       "<Figure size 432x288 with 1 Axes>"
      ]
     },
     "metadata": {
      "needs_background": "light"
     },
     "output_type": "display_data"
    }
   ],
   "source": [
    "plt.plot(steps, lrs, \"-\", linewidth=2)\n",
    "plt.axis([0, n_steps - 1, 0, lr0 * 1.1])\n",
    "plt.xlabel(\"Batch\")\n",
    "plt.ylabel(\"Learning Rate\")\n",
    "plt.title(\"Exponential Scheduling (per batch)\", fontsize=14)\n",
    "plt.grid(True)\n",
    "plt.show()"
   ]
  },
  {
   "cell_type": "markdown",
   "id": "d1de8a5e",
   "metadata": {},
   "source": [
    "## Piecewise Constant Scheduling\n",
    "\n",
    "Use a constant learning rate for a number of epochs (e.g., η0 = 0.1 for 5 epochs),\n",
    "then a smaller learning rate for another number of epochs (e.g., η1 = 0.001 for 50\n",
    "epochs), and so on. Although this solution can work very well, it requires fiddling\n",
    "around to figure out the right sequence of learning rates and how long to\n",
    "use each of them."
   ]
  },
  {
   "cell_type": "code",
   "execution_count": 35,
   "id": "4f6ab638",
   "metadata": {},
   "outputs": [],
   "source": [
    "def piecewise_constant_fn(epoch):\n",
    "    if epoch < 5:\n",
    "        return 0.01\n",
    "    elif epoch < 15:\n",
    "        return 0.005\n",
    "    else:\n",
    "        return 0.001"
   ]
  },
  {
   "cell_type": "code",
   "execution_count": 36,
   "id": "407f8aae",
   "metadata": {},
   "outputs": [],
   "source": [
    "def piecewise_constant(boundaries, values):\n",
    "    boundaries = np.array([0] + boundaries)\n",
    "    values = np.array(values)\n",
    "    def piecewise_constant_fn(epoch):\n",
    "        return values[np.argmax(boundaries > epoch) - 1]\n",
    "    return piecewise_constant_fn\n",
    "\n",
    "piecewise_constant_fn = piecewise_constant([5, 15], [0.01, 0.005, 0.001])"
   ]
  },
  {
   "cell_type": "code",
   "execution_count": 37,
   "id": "df77f474",
   "metadata": {
    "scrolled": true
   },
   "outputs": [
    {
     "name": "stdout",
     "output_type": "stream",
     "text": [
      "Epoch 1/25\n",
      "1712/1719 [============================>.] - ETA: 0s - loss: 0.9055 - accuracy: 0.7420WARNING:tensorflow:Callbacks method `on_test_batch_end` is slow compared to the batch time (batch time: 0.0000s vs `on_test_batch_end` time: 0.0010s). Check your callbacks.\n",
      "1719/1719 [==============================] - 6s 3ms/step - loss: 0.9058 - accuracy: 0.7421 - val_loss: 0.9082 - val_accuracy: 0.6952\n",
      "Epoch 2/25\n",
      "1719/1719 [==============================] - 6s 3ms/step - loss: 0.8512 - accuracy: 0.7563 - val_loss: 0.7354 - val_accuracy: 0.8050\n",
      "Epoch 3/25\n",
      "1719/1719 [==============================] - 6s 3ms/step - loss: 0.8602 - accuracy: 0.7427 - val_loss: 1.1769 - val_accuracy: 0.5606\n",
      "Epoch 4/25\n",
      "1719/1719 [==============================] - 5s 3ms/step - loss: 1.2344 - accuracy: 0.5382 - val_loss: 1.1638 - val_accuracy: 0.5440\n",
      "Epoch 5/25\n",
      "1719/1719 [==============================] - 5s 3ms/step - loss: 1.2475 - accuracy: 0.5303 - val_loss: 1.2114 - val_accuracy: 0.5376\n",
      "Epoch 6/25\n",
      "1719/1719 [==============================] - 6s 3ms/step - loss: 1.0141 - accuracy: 0.5711 - val_loss: 1.0062 - val_accuracy: 0.5632\n",
      "Epoch 7/25\n",
      "1719/1719 [==============================] - 6s 3ms/step - loss: 0.9686 - accuracy: 0.5809 - val_loss: 1.1406 - val_accuracy: 0.5708\n",
      "Epoch 8/25\n",
      "1719/1719 [==============================] - 5s 3ms/step - loss: 0.9523 - accuracy: 0.5919 - val_loss: 1.0225 - val_accuracy: 0.5856\n",
      "Epoch 9/25\n",
      "1719/1719 [==============================] - 5s 3ms/step - loss: 0.9257 - accuracy: 0.6101 - val_loss: 0.9739 - val_accuracy: 0.6088\n",
      "Epoch 10/25\n",
      "1719/1719 [==============================] - 5s 3ms/step - loss: 0.8982 - accuracy: 0.6236 - val_loss: 1.0119 - val_accuracy: 0.6276\n",
      "Epoch 11/25\n",
      "1719/1719 [==============================] - 5s 3ms/step - loss: 0.8967 - accuracy: 0.6318 - val_loss: 1.0924 - val_accuracy: 0.6292\n",
      "Epoch 12/25\n",
      "1719/1719 [==============================] - 5s 3ms/step - loss: 0.8450 - accuracy: 0.6474 - val_loss: 0.9801 - val_accuracy: 0.6168\n",
      "Epoch 13/25\n",
      "1719/1719 [==============================] - 5s 3ms/step - loss: 0.8396 - accuracy: 0.6505 - val_loss: 0.9212 - val_accuracy: 0.6348\n",
      "Epoch 14/25\n",
      "1719/1719 [==============================] - 5s 3ms/step - loss: 0.8210 - accuracy: 0.6524 - val_loss: 0.8965 - val_accuracy: 0.6382\n",
      "Epoch 15/25\n",
      "1719/1719 [==============================] - 5s 3ms/step - loss: 0.7838 - accuracy: 0.6683 - val_loss: 1.6541 - val_accuracy: 0.6822\n",
      "Epoch 16/25\n",
      "1719/1719 [==============================] - 5s 3ms/step - loss: 0.6371 - accuracy: 0.7147 - val_loss: 0.7483 - val_accuracy: 0.6882\n",
      "Epoch 17/25\n",
      "1719/1719 [==============================] - 5s 3ms/step - loss: 0.5897 - accuracy: 0.7233 - val_loss: 0.7592 - val_accuracy: 0.6876\n",
      "Epoch 18/25\n",
      "1719/1719 [==============================] - 5s 3ms/step - loss: 0.5717 - accuracy: 0.7288 - val_loss: 0.7623 - val_accuracy: 0.6880\n",
      "Epoch 19/25\n",
      "1719/1719 [==============================] - 5s 3ms/step - loss: 0.5585 - accuracy: 0.7287 - val_loss: 0.7581 - val_accuracy: 0.6982\n",
      "Epoch 20/25\n",
      "1719/1719 [==============================] - 5s 3ms/step - loss: 0.5432 - accuracy: 0.7374 - val_loss: 0.7658 - val_accuracy: 0.6924\n",
      "Epoch 21/25\n",
      "1719/1719 [==============================] - 5s 3ms/step - loss: 0.5321 - accuracy: 0.7384 - val_loss: 0.7789 - val_accuracy: 0.6928\n",
      "Epoch 22/25\n",
      "1719/1719 [==============================] - 5s 3ms/step - loss: 0.5238 - accuracy: 0.7393 - val_loss: 0.7745 - val_accuracy: 0.7006\n",
      "Epoch 23/25\n",
      "1719/1719 [==============================] - 5s 3ms/step - loss: 0.5150 - accuracy: 0.7427 - val_loss: 0.7881 - val_accuracy: 0.6988\n",
      "Epoch 24/25\n",
      "1719/1719 [==============================] - 5s 3ms/step - loss: 0.5095 - accuracy: 0.7457 - val_loss: 0.7990 - val_accuracy: 0.6958\n",
      "Epoch 25/25\n",
      "1719/1719 [==============================] - 5s 3ms/step - loss: 0.5017 - accuracy: 0.7466 - val_loss: 0.8207 - val_accuracy: 0.6920\n"
     ]
    }
   ],
   "source": [
    "lr_scheduler = keras.callbacks.LearningRateScheduler(piecewise_constant_fn)\n",
    "\n",
    "model = keras.models.Sequential([\n",
    "    keras.layers.Flatten(input_shape=[28, 28]),\n",
    "    keras.layers.Dense(300, activation=\"selu\", kernel_initializer=\"lecun_normal\"),\n",
    "    keras.layers.Dense(100, activation=\"selu\", kernel_initializer=\"lecun_normal\"),\n",
    "    keras.layers.Dense(10, activation=\"softmax\")\n",
    "])\n",
    "model.compile(loss=\"sparse_categorical_crossentropy\", optimizer=\"nadam\", metrics=[\"accuracy\"])\n",
    "n_epochs = 25\n",
    "history = model.fit(X_train_scaled, y_train, epochs=n_epochs,\n",
    "                    validation_data=(X_valid_scaled, y_valid),\n",
    "                    callbacks=[lr_scheduler])"
   ]
  },
  {
   "cell_type": "code",
   "execution_count": 38,
   "id": "98f0b8d7",
   "metadata": {},
   "outputs": [
    {
     "data": {
      "image/png": "[encoded data removed]",
      "text/plain": [
       "<Figure size 432x288 with 1 Axes>"
      ]
     },
     "metadata": {
      "needs_background": "light"
     },
     "output_type": "display_data"
    }
   ],
   "source": [
    "plt.plot(history.epoch, [piecewise_constant_fn(epoch) for epoch in history.epoch], \"o-\")\n",
    "plt.axis([0, n_epochs - 1, 0, 0.011])\n",
    "plt.xlabel(\"Epoch\")\n",
    "plt.ylabel(\"Learning Rate\")\n",
    "plt.title(\"Piecewise Constant Scheduling\", fontsize=14)\n",
    "plt.grid(True)\n",
    "plt.show()"
   ]
  },
  {
   "cell_type": "markdown",
   "id": "bcf64073",
   "metadata": {},
   "source": [
    "## Performance scheduling"
   ]
  },
  {
   "cell_type": "code",
   "execution_count": 39,
   "id": "b5fdc56a",
   "metadata": {},
   "outputs": [],
   "source": [
    "tf.random.set_seed(42)\n",
    "np.random.seed(42)"
   ]
  },
  {
   "cell_type": "code",
   "execution_count": 40,
   "id": "b420c328",
   "metadata": {},
   "outputs": [
    {
     "name": "stdout",
     "output_type": "stream",
     "text": [
      "Epoch 1/25\n",
      "1719/1719 [==============================] - 3s 2ms/step - loss: 0.5900 - accuracy: 0.8068 - val_loss: 0.4719 - val_accuracy: 0.8506\n",
      "Epoch 2/25\n",
      "1719/1719 [==============================] - 3s 2ms/step - loss: 0.4897 - accuracy: 0.8415 - val_loss: 0.6139 - val_accuracy: 0.8268\n",
      "Epoch 3/25\n",
      "1719/1719 [==============================] - 3s 2ms/step - loss: 0.5159 - accuracy: 0.8403 - val_loss: 0.5231 - val_accuracy: 0.8482\n",
      "Epoch 4/25\n",
      "1719/1719 [==============================] - 3s 2ms/step - loss: 0.5217 - accuracy: 0.8467 - val_loss: 0.4573 - val_accuracy: 0.8538\n",
      "Epoch 5/25\n",
      "1719/1719 [==============================] - 3s 2ms/step - loss: 0.5321 - accuracy: 0.8478 - val_loss: 0.4612 - val_accuracy: 0.8562\n",
      "Epoch 6/25\n",
      "1719/1719 [==============================] - 3s 2ms/step - loss: 0.4952 - accuracy: 0.8553 - val_loss: 0.5051 - val_accuracy: 0.8456\n",
      "Epoch 7/25\n",
      "1719/1719 [==============================] - 3s 2ms/step - loss: 0.4987 - accuracy: 0.8570 - val_loss: 0.5012 - val_accuracy: 0.8610\n",
      "Epoch 8/25\n",
      "1719/1719 [==============================] - 3s 2ms/step - loss: 0.5095 - accuracy: 0.8573 - val_loss: 0.6029 - val_accuracy: 0.8290\n",
      "Epoch 9/25\n",
      "1719/1719 [==============================] - 3s 2ms/step - loss: 0.4786 - accuracy: 0.8629 - val_loss: 0.5068 - val_accuracy: 0.8670\n",
      "Epoch 10/25\n",
      "1719/1719 [==============================] - 3s 2ms/step - loss: 0.2841 - accuracy: 0.9014 - val_loss: 0.4215 - val_accuracy: 0.8824\n",
      "Epoch 11/25\n",
      "1719/1719 [==============================] - 3s 2ms/step - loss: 0.2406 - accuracy: 0.9114 - val_loss: 0.4426 - val_accuracy: 0.8816\n",
      "Epoch 12/25\n",
      "1719/1719 [==============================] - 3s 2ms/step - loss: 0.2236 - accuracy: 0.9182 - val_loss: 0.4655 - val_accuracy: 0.8792\n",
      "Epoch 13/25\n",
      "1719/1719 [==============================] - 3s 2ms/step - loss: 0.2053 - accuracy: 0.9243 - val_loss: 0.4499 - val_accuracy: 0.8836\n",
      "Epoch 14/25\n",
      "1719/1719 [==============================] - 3s 2ms/step - loss: 0.1954 - accuracy: 0.9265 - val_loss: 0.4609 - val_accuracy: 0.8816\n",
      "Epoch 15/25\n",
      "1719/1719 [==============================] - 3s 2ms/step - loss: 0.1814 - accuracy: 0.9316 - val_loss: 0.4581 - val_accuracy: 0.8820\n",
      "Epoch 16/25\n",
      "1719/1719 [==============================] - 3s 2ms/step - loss: 0.1293 - accuracy: 0.9494 - val_loss: 0.4363 - val_accuracy: 0.8970\n",
      "Epoch 17/25\n",
      "1719/1719 [==============================] - 3s 2ms/step - loss: 0.1164 - accuracy: 0.9545 - val_loss: 0.4604 - val_accuracy: 0.8944\n",
      "Epoch 18/25\n",
      "1719/1719 [==============================] - 3s 2ms/step - loss: 0.1083 - accuracy: 0.9579 - val_loss: 0.4803 - val_accuracy: 0.8886\n",
      "Epoch 19/25\n",
      "1719/1719 [==============================] - 3s 2ms/step - loss: 0.1016 - accuracy: 0.9600 - val_loss: 0.5021 - val_accuracy: 0.8948\n",
      "Epoch 20/25\n",
      "1719/1719 [==============================] - 3s 2ms/step - loss: 0.0947 - accuracy: 0.9629 - val_loss: 0.5158 - val_accuracy: 0.8946\n",
      "Epoch 21/25\n",
      "1719/1719 [==============================] - 3s 2ms/step - loss: 0.0762 - accuracy: 0.9715 - val_loss: 0.5115 - val_accuracy: 0.8960\n",
      "Epoch 22/25\n",
      "1719/1719 [==============================] - 3s 2ms/step - loss: 0.0711 - accuracy: 0.9732 - val_loss: 0.5313 - val_accuracy: 0.8982\n",
      "Epoch 23/25\n",
      "1719/1719 [==============================] - 3s 2ms/step - loss: 0.0668 - accuracy: 0.9752 - val_loss: 0.5358 - val_accuracy: 0.8996\n",
      "Epoch 24/25\n",
      "1719/1719 [==============================] - 3s 2ms/step - loss: 0.0644 - accuracy: 0.9759 - val_loss: 0.5494 - val_accuracy: 0.8968\n",
      "Epoch 25/25\n",
      "1719/1719 [==============================] - 3s 2ms/step - loss: 0.0608 - accuracy: 0.9775 - val_loss: 0.5631 - val_accuracy: 0.8968\n"
     ]
    }
   ],
   "source": [
    "lr_scheduler = keras.callbacks.ReduceLROnPlateau(factor=0.5, patience=5)\n",
    "\n",
    "model = keras.models.Sequential([\n",
    "    keras.layers.Flatten(input_shape=[28, 28]),\n",
    "    keras.layers.Dense(300, activation=\"selu\", kernel_initializer=\"lecun_normal\"),\n",
    "    keras.layers.Dense(100, activation=\"selu\", kernel_initializer=\"lecun_normal\"),\n",
    "    keras.layers.Dense(10, activation=\"softmax\")\n",
    "])\n",
    "optimizer = keras.optimizers.SGD(lr=0.02, momentum=0.9)\n",
    "model.compile(loss=\"sparse_categorical_crossentropy\", optimizer=optimizer, metrics=[\"accuracy\"])\n",
    "n_epochs = 25\n",
    "history = model.fit(X_train_scaled, y_train, epochs=n_epochs,\n",
    "                    validation_data=(X_valid_scaled, y_valid),\n",
    "                    callbacks=[lr_scheduler])"
   ]
  },
  {
   "cell_type": "code",
   "execution_count": 41,
   "id": "a93e144c",
   "metadata": {},
   "outputs": [
    {
     "data": {
      "image/png": "[encoded data removed]",
      "text/plain": [
       "<Figure size 432x288 with 2 Axes>"
      ]
     },
     "metadata": {
      "needs_background": "light"
     },
     "output_type": "display_data"
    }
   ],
   "source": [
    "plt.plot(history.epoch, history.history[\"lr\"], \"bo-\")\n",
    "plt.xlabel(\"Epoch\")\n",
    "plt.ylabel(\"Learning Rate\", color='b')\n",
    "plt.tick_params('y', colors='b')\n",
    "plt.gca().set_xlim(0, n_epochs - 1)\n",
    "plt.grid(True)\n",
    "\n",
    "ax2 = plt.gca().twinx()\n",
    "ax2.plot(history.epoch, history.history[\"val_loss\"], \"r^-\")\n",
    "ax2.set_ylabel('Validation Loss', color='r')\n",
    "ax2.tick_params('y', colors='r')\n",
    "\n",
    "plt.title(\"Reduce LR on Plateau\", fontsize=14)\n",
    "plt.show()"
   ]
  },
  {
   "cell_type": "markdown",
   "id": "ce6bc350",
   "metadata": {},
   "source": [
    "## tf.keras schedulers"
   ]
  },
  {
   "cell_type": "code",
   "execution_count": 42,
   "id": "97c3b7be",
   "metadata": {},
   "outputs": [
    {
     "name": "stdout",
     "output_type": "stream",
     "text": [
      "Epoch 1/25\n",
      "1719/1719 [==============================] - 3s 2ms/step - loss: 0.4893 - accuracy: 0.8274 - val_loss: 0.4095 - val_accuracy: 0.8598\n",
      "Epoch 2/25\n",
      "1719/1719 [==============================] - 3s 2ms/step - loss: 0.3819 - accuracy: 0.8651 - val_loss: 0.3740 - val_accuracy: 0.8696\n",
      "Epoch 3/25\n",
      "1719/1719 [==============================] - 3s 2ms/step - loss: 0.3486 - accuracy: 0.8763 - val_loss: 0.3736 - val_accuracy: 0.8684\n",
      "Epoch 4/25\n",
      "1719/1719 [==============================] - 3s 1ms/step - loss: 0.3264 - accuracy: 0.8837 - val_loss: 0.3495 - val_accuracy: 0.8798\n",
      "Epoch 5/25\n",
      "1719/1719 [==============================] - 3s 1ms/step - loss: 0.3103 - accuracy: 0.8896 - val_loss: 0.3433 - val_accuracy: 0.8800\n",
      "Epoch 6/25\n",
      "1719/1719 [==============================] - 3s 2ms/step - loss: 0.2958 - accuracy: 0.8952 - val_loss: 0.3417 - val_accuracy: 0.8814\n",
      "Epoch 7/25\n",
      "1719/1719 [==============================] - 3s 2ms/step - loss: 0.2853 - accuracy: 0.8987 - val_loss: 0.3357 - val_accuracy: 0.8812\n",
      "Epoch 8/25\n",
      "1719/1719 [==============================] - 3s 2ms/step - loss: 0.2760 - accuracy: 0.9018 - val_loss: 0.3369 - val_accuracy: 0.8816\n",
      "Epoch 9/25\n",
      "1719/1719 [==============================] - 3s 2ms/step - loss: 0.2676 - accuracy: 0.9053 - val_loss: 0.3267 - val_accuracy: 0.8854\n",
      "Epoch 10/25\n",
      "1719/1719 [==============================] - 3s 1ms/step - loss: 0.2607 - accuracy: 0.9069 - val_loss: 0.3243 - val_accuracy: 0.8860\n",
      "Epoch 11/25\n",
      "1719/1719 [==============================] - 3s 2ms/step - loss: 0.2550 - accuracy: 0.9089 - val_loss: 0.3255 - val_accuracy: 0.8858\n",
      "Epoch 12/25\n",
      "1719/1719 [==============================] - 3s 2ms/step - loss: 0.2496 - accuracy: 0.9128 - val_loss: 0.3303 - val_accuracy: 0.8810\n",
      "Epoch 13/25\n",
      "1719/1719 [==============================] - 3s 2ms/step - loss: 0.2448 - accuracy: 0.9137 - val_loss: 0.3221 - val_accuracy: 0.8872\n",
      "Epoch 14/25\n",
      "1719/1719 [==============================] - 3s 2ms/step - loss: 0.2414 - accuracy: 0.9149 - val_loss: 0.3224 - val_accuracy: 0.8860\n",
      "Epoch 15/25\n",
      "1719/1719 [==============================] - 3s 2ms/step - loss: 0.2374 - accuracy: 0.9167 - val_loss: 0.3210 - val_accuracy: 0.8876\n",
      "Epoch 16/25\n",
      "1719/1719 [==============================] - 3s 2ms/step - loss: 0.2342 - accuracy: 0.9181 - val_loss: 0.3188 - val_accuracy: 0.8888\n",
      "Epoch 17/25\n",
      "1719/1719 [==============================] - 3s 2ms/step - loss: 0.2316 - accuracy: 0.9191 - val_loss: 0.3200 - val_accuracy: 0.8894\n",
      "Epoch 18/25\n",
      "1719/1719 [==============================] - 3s 1ms/step - loss: 0.2290 - accuracy: 0.9199 - val_loss: 0.3172 - val_accuracy: 0.8902\n",
      "Epoch 19/25\n",
      "1719/1719 [==============================] - 3s 2ms/step - loss: 0.2269 - accuracy: 0.9207 - val_loss: 0.3201 - val_accuracy: 0.8900\n",
      "Epoch 20/25\n",
      "1719/1719 [==============================] - 3s 2ms/step - loss: 0.2250 - accuracy: 0.9218 - val_loss: 0.3173 - val_accuracy: 0.8900\n",
      "Epoch 21/25\n",
      "1719/1719 [==============================] - 3s 2ms/step - loss: 0.2228 - accuracy: 0.9223 - val_loss: 0.3184 - val_accuracy: 0.8910\n",
      "Epoch 22/25\n",
      "1719/1719 [==============================] - 3s 1ms/step - loss: 0.2215 - accuracy: 0.9223 - val_loss: 0.3167 - val_accuracy: 0.8912\n",
      "Epoch 23/25\n",
      "1719/1719 [==============================] - 3s 2ms/step - loss: 0.2200 - accuracy: 0.9232 - val_loss: 0.3175 - val_accuracy: 0.8894\n",
      "Epoch 24/25\n",
      "1719/1719 [==============================] - 3s 2ms/step - loss: 0.2187 - accuracy: 0.9240 - val_loss: 0.3170 - val_accuracy: 0.8900\n",
      "Epoch 25/25\n",
      "1719/1719 [==============================] - 3s 2ms/step - loss: 0.2179 - accuracy: 0.9241 - val_loss: 0.3169 - val_accuracy: 0.8910\n"
     ]
    }
   ],
   "source": [
    "model = keras.models.Sequential([\n",
    "    keras.layers.Flatten(input_shape=[28, 28]),\n",
    "    keras.layers.Dense(300, activation=\"selu\", kernel_initializer=\"lecun_normal\"),\n",
    "    keras.layers.Dense(100, activation=\"selu\", kernel_initializer=\"lecun_normal\"),\n",
    "    keras.layers.Dense(10, activation=\"softmax\")\n",
    "])\n",
    "s = 20 * len(X_train) // 32 # number of steps in 20 epochs (batch size = 32)\n",
    "learning_rate = keras.optimizers.schedules.ExponentialDecay(0.01, s, 0.1)\n",
    "optimizer = keras.optimizers.SGD(learning_rate)\n",
    "model.compile(loss=\"sparse_categorical_crossentropy\", optimizer=optimizer, metrics=[\"accuracy\"])\n",
    "n_epochs = 25\n",
    "history = model.fit(X_train_scaled, y_train, epochs=n_epochs,\n",
    "                    validation_data=(X_valid_scaled, y_valid))"
   ]
  },
  {
   "cell_type": "markdown",
   "id": "342299c6",
   "metadata": {},
   "source": [
    "For piecewise constant scheduling, try this:"
   ]
  },
  {
   "cell_type": "code",
   "execution_count": 43,
   "id": "7d8a40ae",
   "metadata": {},
   "outputs": [],
   "source": [
    "learning_rate = keras.optimizers.schedules.PiecewiseConstantDecay(\n",
    "    boundaries=[5. * n_steps_per_epoch, 15. * n_steps_per_epoch],\n",
    "    values=[0.01, 0.005, 0.001])"
   ]
  },
  {
   "cell_type": "markdown",
   "id": "04d8792f",
   "metadata": {},
   "source": [
    "## 1 Cycle Scheduling\n",
    "\n",
    "Contrary to the other approaches, 1cycle (introduced in a 2018 paper by Leslie\n",
    "Smith) starts by increasing the initial learning rate η0, growing linearly up to η1\n",
    "halfway through training. Then it decreases the learning rate linearly down to η0\n",
    "again during the second half of training, finishing the last few epochs by dropping\n",
    "the rate down by several orders of magnitude (still linearly). The maximum\n",
    "learning rate η1 is chosen using the same approach we used to find the optimal\n",
    "learning rate, and the initial learning rate η0 is chosen to be roughly 10 times\n",
    "lower. When using a momentum, we start with a high momentum first (e.g.,\n",
    "0.95), then drop it down to a lower momentum during the first half of training\n",
    "(e.g., down to 0.85, linearly), and then bring it back up to the maximum value\n",
    "(e.g., 0.95) during the second half of training, finishing the last few epochs with\n",
    "that maximum value. Smith did many experiments showing that this approach\n",
    "was often able to speed up training considerably and reach better performance.\n",
    "For example, on the popular CIFAR10 image dataset, this approach reached\n",
    "91.9% validation accuracy in just 100 epochs, instead of 90.3% accuracy in 800\n",
    "epochs through a standard approach (with the same neural network\n",
    "architecture)."
   ]
  },
  {
   "cell_type": "code",
   "execution_count": 44,
   "id": "b2774615",
   "metadata": {},
   "outputs": [],
   "source": [
    "K = keras.backend\n",
    "\n",
    "class ExponentialLearningRate(keras.callbacks.Callback):\n",
    "    def __init__(self, factor):\n",
    "        self.factor = factor\n",
    "        self.rates = []\n",
    "        self.losses = []\n",
    "    def on_batch_end(self, batch, logs):\n",
    "        self.rates.append(K.get_value(self.model.optimizer.lr))\n",
    "        self.losses.append(logs[\"loss\"])\n",
    "        K.set_value(self.model.optimizer.lr, self.model.optimizer.lr * self.factor)\n",
    "\n",
    "def find_learning_rate(model, X, y, epochs=1, batch_size=32, min_rate=10**-5, max_rate=10):\n",
    "    init_weights = model.get_weights()\n",
    "    iterations = math.ceil(len(X) / batch_size) * epochs\n",
    "    factor = np.exp(np.log(max_rate / min_rate) / iterations)\n",
    "    init_lr = K.get_value(model.optimizer.lr)\n",
    "    K.set_value(model.optimizer.lr, min_rate)\n",
    "    exp_lr = ExponentialLearningRate(factor)\n",
    "    history = model.fit(X, y, epochs=epochs, batch_size=batch_size,\n",
    "                        callbacks=[exp_lr])\n",
    "    K.set_value(model.optimizer.lr, init_lr)\n",
    "    model.set_weights(init_weights)\n",
    "    return exp_lr.rates, exp_lr.losses\n",
    "\n",
    "def plot_lr_vs_loss(rates, losses):\n",
    "    plt.plot(rates, losses)\n",
    "    plt.gca().set_xscale('log')\n",
    "    plt.hlines(min(losses), min(rates), max(rates))\n",
    "    plt.axis([min(rates), max(rates), min(losses), (losses[0] + min(losses)) / 2])\n",
    "    plt.xlabel(\"Learning rate\")\n",
    "    plt.ylabel(\"Loss\")"
   ]
  },
  {
   "cell_type": "code",
   "execution_count": 45,
   "id": "8c112632",
   "metadata": {},
   "outputs": [],
   "source": [
    "tf.random.set_seed(42)\n",
    "np.random.seed(42)\n",
    "\n",
    "model = keras.models.Sequential([\n",
    "    keras.layers.Flatten(input_shape=[28, 28]),\n",
    "    keras.layers.Dense(300, activation=\"selu\", kernel_initializer=\"lecun_normal\"),\n",
    "    keras.layers.Dense(100, activation=\"selu\", kernel_initializer=\"lecun_normal\"),\n",
    "    keras.layers.Dense(10, activation=\"softmax\")\n",
    "])\n",
    "model.compile(loss=\"sparse_categorical_crossentropy\",\n",
    "              optimizer=keras.optimizers.SGD(lr=1e-3),\n",
    "              metrics=[\"accuracy\"])"
   ]
  },
  {
   "cell_type": "code",
   "execution_count": 46,
   "id": "f77c790e",
   "metadata": {},
   "outputs": [
    {
     "name": "stdout",
     "output_type": "stream",
     "text": [
      "430/430 [==============================] - 1s 3ms/step - loss: 7230127879999193088.0000 - accuracy: 0.3852\n"
     ]
    },
    {
     "data": {
      "image/png": "[encoded data removed]",
      "text/plain": [
       "<Figure size 432x288 with 1 Axes>"
      ]
     },
     "metadata": {
      "needs_background": "light"
     },
     "output_type": "display_data"
    }
   ],
   "source": [
    "batch_size = 128\n",
    "rates, losses = find_learning_rate(model, X_train_scaled, y_train, epochs=1, batch_size=batch_size)\n",
    "plot_lr_vs_loss(rates, losses)"
   ]
  },
  {
   "cell_type": "code",
   "execution_count": 47,
   "id": "7448ad6a",
   "metadata": {},
   "outputs": [],
   "source": [
    "class OneCycleScheduler(keras.callbacks.Callback):\n",
    "    def __init__(self, iterations, max_rate, start_rate=None,\n",
    "                 last_iterations=None, last_rate=None):\n",
    "        self.iterations = iterations\n",
    "        self.max_rate = max_rate\n",
    "        self.start_rate = start_rate or max_rate / 10\n",
    "        self.last_iterations = last_iterations or iterations // 10 + 1\n",
    "        self.half_iteration = (iterations - self.last_iterations) // 2\n",
    "        self.last_rate = last_rate or self.start_rate / 1000\n",
    "        self.iteration = 0\n",
    "    def _interpolate(self, iter1, iter2, rate1, rate2):\n",
    "        return ((rate2 - rate1) * (self.iteration - iter1)\n",
    "                / (iter2 - iter1) + rate1)\n",
    "    def on_batch_begin(self, batch, logs):\n",
    "        if self.iteration < self.half_iteration:\n",
    "            rate = self._interpolate(0, self.half_iteration, self.start_rate, self.max_rate)\n",
    "        elif self.iteration < 2 * self.half_iteration:\n",
    "            rate = self._interpolate(self.half_iteration, 2 * self.half_iteration,\n",
    "                                     self.max_rate, self.start_rate)\n",
    "        else:\n",
    "            rate = self._interpolate(2 * self.half_iteration, self.iterations,\n",
    "                                     self.start_rate, self.last_rate)\n",
    "        self.iteration += 1\n",
    "        K.set_value(self.model.optimizer.lr, rate)"
   ]
  },
  {
   "cell_type": "code",
   "execution_count": 48,
   "id": "b1f1daf9",
   "metadata": {},
   "outputs": [
    {
     "name": "stdout",
     "output_type": "stream",
     "text": [
      "Epoch 1/25\n",
      "430/430 [==============================] - 1s 3ms/step - loss: 0.6572 - accuracy: 0.7740 - val_loss: 0.4872 - val_accuracy: 0.8336\n",
      "Epoch 2/25\n",
      "430/430 [==============================] - 1s 3ms/step - loss: 0.4581 - accuracy: 0.8396 - val_loss: 0.4275 - val_accuracy: 0.8524\n",
      "Epoch 3/25\n",
      "430/430 [==============================] - 1s 3ms/step - loss: 0.4122 - accuracy: 0.8545 - val_loss: 0.4115 - val_accuracy: 0.8580\n",
      "Epoch 4/25\n",
      "430/430 [==============================] - 1s 3ms/step - loss: 0.3837 - accuracy: 0.8641 - val_loss: 0.3867 - val_accuracy: 0.8686\n",
      "Epoch 5/25\n",
      "430/430 [==============================] - 1s 3ms/step - loss: 0.3639 - accuracy: 0.8718 - val_loss: 0.3765 - val_accuracy: 0.8688\n",
      "Epoch 6/25\n",
      "430/430 [==============================] - 1s 3ms/step - loss: 0.3456 - accuracy: 0.8775 - val_loss: 0.3745 - val_accuracy: 0.8710\n",
      "Epoch 7/25\n",
      "430/430 [==============================] - 1s 3ms/step - loss: 0.3330 - accuracy: 0.8811 - val_loss: 0.3636 - val_accuracy: 0.8712\n",
      "Epoch 8/25\n",
      "430/430 [==============================] - 1s 3ms/step - loss: 0.3185 - accuracy: 0.8859 - val_loss: 0.3964 - val_accuracy: 0.8602\n",
      "Epoch 9/25\n",
      "430/430 [==============================] - 1s 3ms/step - loss: 0.3066 - accuracy: 0.8890 - val_loss: 0.3491 - val_accuracy: 0.8770\n",
      "Epoch 10/25\n",
      "430/430 [==============================] - 1s 3ms/step - loss: 0.2944 - accuracy: 0.8923 - val_loss: 0.3399 - val_accuracy: 0.8798\n",
      "Epoch 11/25\n",
      "430/430 [==============================] - 1s 3ms/step - loss: 0.2838 - accuracy: 0.8965 - val_loss: 0.3450 - val_accuracy: 0.8830\n",
      "Epoch 12/25\n",
      "430/430 [==============================] - 1s 3ms/step - loss: 0.2709 - accuracy: 0.9025 - val_loss: 0.3642 - val_accuracy: 0.8704\n",
      "Epoch 13/25\n",
      "430/430 [==============================] - 1s 3ms/step - loss: 0.2538 - accuracy: 0.9081 - val_loss: 0.3358 - val_accuracy: 0.8844\n",
      "Epoch 14/25\n",
      "430/430 [==============================] - 1s 3ms/step - loss: 0.2406 - accuracy: 0.9137 - val_loss: 0.3467 - val_accuracy: 0.8806\n",
      "Epoch 15/25\n",
      "430/430 [==============================] - 1s 3ms/step - loss: 0.2280 - accuracy: 0.9179 - val_loss: 0.3264 - val_accuracy: 0.8848\n",
      "Epoch 16/25\n",
      "430/430 [==============================] - 1s 3ms/step - loss: 0.2160 - accuracy: 0.9233 - val_loss: 0.3300 - val_accuracy: 0.8832\n",
      "Epoch 17/25\n",
      "430/430 [==============================] - 1s 3ms/step - loss: 0.2063 - accuracy: 0.9263 - val_loss: 0.3355 - val_accuracy: 0.8874\n",
      "Epoch 18/25\n",
      "430/430 [==============================] - 1s 3ms/step - loss: 0.1979 - accuracy: 0.9305 - val_loss: 0.3249 - val_accuracy: 0.8904\n",
      "Epoch 19/25\n",
      "430/430 [==============================] - 1s 3ms/step - loss: 0.1893 - accuracy: 0.9339 - val_loss: 0.3239 - val_accuracy: 0.8906\n",
      "Epoch 20/25\n",
      "430/430 [==============================] - 1s 3ms/step - loss: 0.1822 - accuracy: 0.9368 - val_loss: 0.3232 - val_accuracy: 0.8920\n",
      "Epoch 21/25\n",
      "430/430 [==============================] - 1s 3ms/step - loss: 0.1753 - accuracy: 0.9401 - val_loss: 0.3225 - val_accuracy: 0.8904\n",
      "Epoch 22/25\n",
      "430/430 [==============================] - 1s 3ms/step - loss: 0.1701 - accuracy: 0.9420 - val_loss: 0.3189 - val_accuracy: 0.8946\n",
      "Epoch 23/25\n",
      "430/430 [==============================] - 1s 3ms/step - loss: 0.1655 - accuracy: 0.9437 - val_loss: 0.3192 - val_accuracy: 0.8952\n",
      "Epoch 24/25\n",
      "430/430 [==============================] - 1s 3ms/step - loss: 0.1626 - accuracy: 0.9455 - val_loss: 0.3183 - val_accuracy: 0.8934\n",
      "Epoch 25/25\n",
      "430/430 [==============================] - 1s 3ms/step - loss: 0.1609 - accuracy: 0.9465 - val_loss: 0.3175 - val_accuracy: 0.8940\n"
     ]
    }
   ],
   "source": [
    "n_epochs = 25\n",
    "onecycle = OneCycleScheduler(math.ceil(len(X_train) / batch_size) * n_epochs, max_rate=0.05)\n",
    "history = model.fit(X_train_scaled, y_train, epochs=n_epochs, batch_size=batch_size,\n",
    "                    validation_data=(X_valid_scaled, y_valid),\n",
    "                    callbacks=[onecycle])"
   ]
  },
  {
   "cell_type": "markdown",
   "id": "2bfd8127",
   "metadata": {},
   "source": [
    "## Summary\n",
    "Exponential decay, performance scheduling, and 1cycle can considerably\n",
    "speed up convergence, so give them a try!"
   ]
  },
  {
   "cell_type": "markdown",
   "id": "98017ef0",
   "metadata": {},
   "source": [
    "# Avoiding Overfitting Through Regularization"
   ]
  },
  {
   "cell_type": "markdown",
   "id": "0521c545",
   "metadata": {},
   "source": [
    "## $\\ell_1$ and $\\ell_2$ regularization\n",
    "\n",
    "Just like you did in Chapter 4 for simple linear models, you can use ℓ2 regularization\n",
    "to constrain a neural network’s connection weights, and/or ℓ1 regularization if you\n",
    "want a sparse model (with many weights equal to 0)"
   ]
  },
  {
   "cell_type": "code",
   "execution_count": 49,
   "id": "b3027f43",
   "metadata": {},
   "outputs": [],
   "source": [
    "layer = keras.layers.Dense(100, activation=\"elu\",\n",
    "                           kernel_initializer=\"he_normal\",\n",
    "                           kernel_regularizer=keras.regularizers.l2(0.01))\n",
    "# or l1(0.1) for ℓ1 regularization with a factor or 0.1\n",
    "# or l1_l2(0.1, 0.01) for both ℓ1 and ℓ2 regularization, with factors 0.1 and 0.01 respectively"
   ]
  },
  {
   "cell_type": "markdown",
   "id": "71eabf62",
   "metadata": {},
   "source": [
    "Since you will typically want to apply the same regularizer to all layers in your network,\n",
    "as well as using the same activation function and the same initialization strategy\n",
    "in all hidden layers, you may find yourself repeating the same arguments. This\n",
    "makes the code ugly and error-prone. To avoid this, you can try refactoring your code\n",
    "to use loops. Another option is to use Python’s functools.partial() function,\n",
    "which lets you create a thin wrapper for any callable, with some default argument\n",
    "values:"
   ]
  },
  {
   "cell_type": "code",
   "execution_count": 50,
   "id": "885fd63d",
   "metadata": {},
   "outputs": [
    {
     "name": "stdout",
     "output_type": "stream",
     "text": [
      "Epoch 1/2\n",
      "1719/1719 [==============================] - 6s 4ms/step - loss: 1.6223 - accuracy: 0.8109 - val_loss: 0.7201 - val_accuracy: 0.8306\n",
      "Epoch 2/2\n",
      "1719/1719 [==============================] - 6s 3ms/step - loss: 0.7204 - accuracy: 0.8269 - val_loss: 0.6843 - val_accuracy: 0.8368\n"
     ]
    }
   ],
   "source": [
    "from functools import partial\n",
    "\n",
    "RegularizedDense = partial(keras.layers.Dense,\n",
    "                           activation=\"elu\",\n",
    "                           kernel_initializer=\"he_normal\",\n",
    "                           kernel_regularizer=keras.regularizers.l2(0.01))\n",
    "\n",
    "model = keras.models.Sequential([\n",
    "    keras.layers.Flatten(input_shape=[28, 28]),\n",
    "    RegularizedDense(300),\n",
    "    RegularizedDense(100),\n",
    "    RegularizedDense(10, activation=\"softmax\")\n",
    "])\n",
    "model.compile(loss=\"sparse_categorical_crossentropy\", optimizer=\"nadam\", metrics=[\"accuracy\"])\n",
    "n_epochs = 2\n",
    "history = model.fit(X_train_scaled, y_train, epochs=n_epochs,\n",
    "                    validation_data=(X_valid_scaled, y_valid))"
   ]
  },
  {
   "cell_type": "markdown",
   "id": "bdb5bdbe",
   "metadata": {},
   "source": [
    "## Dropout\n",
    "\n",
    "Dropout is one of the most popular regularization techniques for deep neural networks.\n",
    "It was proposed in a paper23 by Geoffrey Hinton in 2012 and further detailed\n",
    "in a 2014 paper24 by Nitish Srivastava et al., and it has proven to be highly successful:\n",
    "even the state-of-the-art neural networks get a 1–2% accuracy boost simply by adding\n",
    "dropout. This may not sound like a lot, but when a model already has 95% accuracy,\n",
    "getting a 2% accuracy boost means dropping the error rate by almost 40% (going\n",
    "from 5% error to roughly 3%).\n",
    "\n",
    "It is a fairly simple algorithm: at every training step, every neuron (including the\n",
    "input neurons, but always excluding the output neurons) has a probability p of being\n",
    "temporarily “dropped out,” meaning it will be entirely ignored during this training\n",
    "step, but it may be active during the next step (see Figure 11-9). The hyperparameter\n",
    "p is called the dropout rate, and it is typically set between 10% and 50%: closer to 20–\n",
    "30% in recurrent neural nets (see Chapter 15), and closer to 40–50% in convolutional\n",
    "neural networks (see Chapter 14). After training, neurons don’t get dropped anymore.\n",
    "\n",
    "![](images/dropout.png)\n",
    "\n",
    "**NOTE**: In practice, you can usually apply dropout only to the neurons in\n",
    "the top one to three layers (excluding the output layer).\n",
    "\n",
    "There is one small but important technical detail. Suppose p = 50%, in which case\n",
    "during testing a neuron would be connected to twice as many input neurons as it\n",
    "would be (on average) during training. To compensate for this fact, we need to multiply\n",
    "each neuron’s input connection weights by 0.5 after training. If we don’t, each\n",
    "neuron will get a total input signal roughly twice as large as what the network was\n",
    "trained on and will be unlikely to perform well. More generally, we need to multiply\n",
    "each input connection weight by the keep probability (1 – p) after training. Alternatively,\n",
    "we can divide each neuron’s output by the keep probability during training\n",
    "(these alternatives are not perfectly equivalent, but they work equally well). Keras handles this automatically."
   ]
  },
  {
   "cell_type": "code",
   "execution_count": 51,
   "id": "6b00b82e",
   "metadata": {},
   "outputs": [
    {
     "name": "stdout",
     "output_type": "stream",
     "text": [
      "Epoch 1/2\n",
      "1719/1719 [==============================] - 6s 4ms/step - loss: 0.5597 - accuracy: 0.8059 - val_loss: 0.3672 - val_accuracy: 0.8656\n",
      "Epoch 2/2\n",
      "1719/1719 [==============================] - 6s 4ms/step - loss: 0.4230 - accuracy: 0.8455 - val_loss: 0.3464 - val_accuracy: 0.8686\n"
     ]
    }
   ],
   "source": [
    "model = keras.models.Sequential([\n",
    "    keras.layers.Flatten(input_shape=[28, 28]),\n",
    "    keras.layers.Dropout(rate=0.2),\n",
    "    keras.layers.Dense(300, activation=\"elu\", kernel_initializer=\"he_normal\"),\n",
    "    keras.layers.Dropout(rate=0.2),\n",
    "    keras.layers.Dense(100, activation=\"elu\", kernel_initializer=\"he_normal\"),\n",
    "    keras.layers.Dropout(rate=0.2),\n",
    "    keras.layers.Dense(10, activation=\"softmax\")\n",
    "])\n",
    "model.compile(loss=\"sparse_categorical_crossentropy\", optimizer=\"nadam\", metrics=[\"accuracy\"])\n",
    "n_epochs = 2\n",
    "history = model.fit(X_train_scaled, y_train, epochs=n_epochs,\n",
    "                    validation_data=(X_valid_scaled, y_valid))"
   ]
  },
  {
   "cell_type": "markdown",
   "id": "41c3bec6",
   "metadata": {},
   "source": [
    "**WARNING**: Since dropout is only active during training, comparing the training\n",
    "loss and the validation loss can be misleading. In particular, a\n",
    "model may be overfitting the training set and yet have similar\n",
    "training and validation losses. So make sure to evaluate the training\n",
    "loss without dropout (e.g., after training).\n",
    "\n",
    "If you observe that the model is **overfitting, you can increase the dropout rate.** Conversely,\n",
    "you should try **decreasing the dropout rate if the model underfits** the training\n",
    "set. It can also help to increase the dropout rate for large layers, and reduce it for\n",
    "small ones. Moreover, many state-of-the-art architectures only use dropout after the\n",
    "last hidden layer, so you may want to try this if full dropout is too strong.\n",
    "\n",
    "Dropout does tend to significantly slow down convergence, but it usually results in a\n",
    "much better model when tuned properly. So, it is generally well worth the extra time\n",
    "and effort."
   ]
  },
  {
   "cell_type": "markdown",
   "id": "6ee36bb7",
   "metadata": {},
   "source": [
    "## Alpha Dropout\n",
    "\n",
    "**NOTE**: If you want to regularize a self-normalizing network based on the\n",
    "SELU activation function (as discussed earlier), you should use\n",
    "alpha dropout: this is a variant of dropout that preserves the mean\n",
    "and standard deviation of its inputs (it was introduced in the same\n",
    "paper as SELU, as regular dropout would break self-normalization)."
   ]
  },
  {
   "cell_type": "code",
   "execution_count": 52,
   "id": "0c9c306a",
   "metadata": {},
   "outputs": [],
   "source": [
    "tf.random.set_seed(42)\n",
    "np.random.seed(42)"
   ]
  },
  {
   "cell_type": "code",
   "execution_count": 53,
   "id": "da5d3939",
   "metadata": {
    "scrolled": true
   },
   "outputs": [
    {
     "name": "stdout",
     "output_type": "stream",
     "text": [
      "Epoch 1/20\n",
      "1719/1719 [==============================] - 5s 3ms/step - loss: 0.6654 - accuracy: 0.7595 - val_loss: 0.5929 - val_accuracy: 0.8406\n",
      "Epoch 2/20\n",
      "1719/1719 [==============================] - 5s 3ms/step - loss: 0.5605 - accuracy: 0.7931 - val_loss: 0.5614 - val_accuracy: 0.8402\n",
      "Epoch 3/20\n",
      "1719/1719 [==============================] - 5s 3ms/step - loss: 0.5284 - accuracy: 0.8049 - val_loss: 0.4842 - val_accuracy: 0.8584- accu\n",
      "Epoch 4/20\n",
      "1719/1719 [==============================] - 5s 3ms/step - loss: 0.5072 - accuracy: 0.8115 - val_loss: 0.4614 - val_accuracy: 0.8588\n",
      "Epoch 5/20\n",
      "1719/1719 [==============================] - 5s 3ms/step - loss: 0.4917 - accuracy: 0.8183 - val_loss: 0.4690 - val_accuracy: 0.8562\n",
      "Epoch 6/20\n",
      "1719/1719 [==============================] - 5s 3ms/step - loss: 0.4866 - accuracy: 0.8185 - val_loss: 0.4728 - val_accuracy: 0.8604\n",
      "Epoch 7/20\n",
      "1719/1719 [==============================] - 5s 3ms/step - loss: 0.4718 - accuracy: 0.8247 - val_loss: 0.4687 - val_accuracy: 0.8670\n",
      "Epoch 8/20\n",
      "1719/1719 [==============================] - 5s 3ms/step - loss: 0.4634 - accuracy: 0.8279 - val_loss: 0.4617 - val_accuracy: 0.8618\n",
      "Epoch 9/20\n",
      "1719/1719 [==============================] - 5s 3ms/step - loss: 0.4586 - accuracy: 0.8306 - val_loss: 0.4123 - val_accuracy: 0.8742\n",
      "Epoch 10/20\n",
      "1719/1719 [==============================] - 5s 3ms/step - loss: 0.4528 - accuracy: 0.8320 - val_loss: 0.4623 - val_accuracy: 0.8662\n",
      "Epoch 11/20\n",
      "1719/1719 [==============================] - 5s 3ms/step - loss: 0.4482 - accuracy: 0.8326 - val_loss: 0.4176 - val_accuracy: 0.8692\n",
      "Epoch 12/20\n",
      "1719/1719 [==============================] - 5s 3ms/step - loss: 0.4469 - accuracy: 0.8343 - val_loss: 0.5353 - val_accuracy: 0.8512\n",
      "Epoch 13/20\n",
      "1719/1719 [==============================] - 5s 3ms/step - loss: 0.4418 - accuracy: 0.8360 - val_loss: 0.4590 - val_accuracy: 0.8640\n",
      "Epoch 14/20\n",
      "1719/1719 [==============================] - 5s 3ms/step - loss: 0.4323 - accuracy: 0.8393 - val_loss: 0.4516 - val_accuracy: 0.8698\n",
      "Epoch 15/20\n",
      "1719/1719 [==============================] - 5s 3ms/step - loss: 0.4323 - accuracy: 0.8369 - val_loss: 0.4452 - val_accuracy: 0.8694\n",
      "Epoch 16/20\n",
      "1719/1719 [==============================] - 5s 3ms/step - loss: 0.4309 - accuracy: 0.8411 - val_loss: 0.4143 - val_accuracy: 0.8796\n",
      "Epoch 17/20\n",
      "1719/1719 [==============================] - 5s 3ms/step - loss: 0.4260 - accuracy: 0.8410 - val_loss: 0.5654 - val_accuracy: 0.8588\n",
      "Epoch 18/20\n",
      "1719/1719 [==============================] - 5s 3ms/step - loss: 0.4249 - accuracy: 0.8409 - val_loss: 0.5007 - val_accuracy: 0.8716\n",
      "Epoch 19/20\n",
      "1719/1719 [==============================] - 5s 3ms/step - loss: 0.4211 - accuracy: 0.8435 - val_loss: 0.4810 - val_accuracy: 0.8730\n",
      "Epoch 20/20\n",
      "1719/1719 [==============================] - 5s 3ms/step - loss: 0.4237 - accuracy: 0.8433 - val_loss: 0.3988 - val_accuracy: 0.8788\n"
     ]
    }
   ],
   "source": [
    "model = keras.models.Sequential([\n",
    "    keras.layers.Flatten(input_shape=[28, 28]),\n",
    "    keras.layers.AlphaDropout(rate=0.2),\n",
    "    keras.layers.Dense(300, activation=\"selu\", kernel_initializer=\"lecun_normal\"),\n",
    "    keras.layers.AlphaDropout(rate=0.2),\n",
    "    keras.layers.Dense(100, activation=\"selu\", kernel_initializer=\"lecun_normal\"),\n",
    "    keras.layers.AlphaDropout(rate=0.2),\n",
    "    keras.layers.Dense(10, activation=\"softmax\")\n",
    "])\n",
    "optimizer = keras.optimizers.SGD(lr=0.01, momentum=0.9, nesterov=True)\n",
    "model.compile(loss=\"sparse_categorical_crossentropy\", optimizer=optimizer, metrics=[\"accuracy\"])\n",
    "n_epochs = 20\n",
    "history = model.fit(X_train_scaled, y_train, epochs=n_epochs,\n",
    "                    validation_data=(X_valid_scaled, y_valid))"
   ]
  },
  {
   "cell_type": "code",
   "execution_count": 54,
   "id": "e250dc45",
   "metadata": {},
   "outputs": [
    {
     "name": "stdout",
     "output_type": "stream",
     "text": [
      "313/313 [==============================] - 0s 1ms/step - loss: 0.4391 - accuracy: 0.8663\n"
     ]
    },
    {
     "data": {
      "text/plain": [
       "[0.4390813112258911, 0.8662999868392944]"
      ]
     },
     "execution_count": 54,
     "metadata": {},
     "output_type": "execute_result"
    }
   ],
   "source": [
    "model.evaluate(X_test_scaled, y_test)"
   ]
  },
  {
   "cell_type": "code",
   "execution_count": 55,
   "id": "96690f0c",
   "metadata": {},
   "outputs": [
    {
     "name": "stdout",
     "output_type": "stream",
     "text": [
      "1719/1719 [==============================] - 2s 1ms/step - loss: 0.3251 - accuracy: 0.8891: 1s - - ETA: 0s - loss: 0.3247 - accu - ETA: 0s - loss: 0.3265 - accuracy: 0.\n"
     ]
    },
    {
     "data": {
      "text/plain": [
       "[0.3251270353794098, 0.889090895652771]"
      ]
     },
     "execution_count": 55,
     "metadata": {},
     "output_type": "execute_result"
    }
   ],
   "source": [
    "model.evaluate(X_train_scaled, y_train)"
   ]
  },
  {
   "cell_type": "code",
   "execution_count": 56,
   "id": "5986544b",
   "metadata": {},
   "outputs": [
    {
     "name": "stdout",
     "output_type": "stream",
     "text": [
      "1719/1719 [==============================] - 4s 3ms/step - loss: 0.4162 - accuracy: 0.8471\n"
     ]
    }
   ],
   "source": [
    "history = model.fit(X_train_scaled, y_train)"
   ]
  },
  {
   "cell_type": "markdown",
   "id": "fa07d15a",
   "metadata": {},
   "source": [
    "## MC Dropout\n",
    "\n",
    "If this all sounds like a “one weird trick” advertisement, then take a look at the following\n",
    "code. It is the full implementation of MC Dropout, boosting the dropout model\n",
    "we trained earlier without retraining it:"
   ]
  },
  {
   "cell_type": "markdown",
   "id": "7a952aa5",
   "metadata": {},
   "source": [
    "SKIPPED"
   ]
  },
  {
   "cell_type": "markdown",
   "id": "bcfc87bf",
   "metadata": {},
   "source": [
    "## Max-Norm Regularization"
   ]
  },
  {
   "cell_type": "code",
   "execution_count": 72,
   "id": "848367f4",
   "metadata": {},
   "outputs": [],
   "source": [
    "layer = keras.layers.Dense(100, activation=\"selu\", kernel_initializer=\"lecun_normal\",\n",
    "                           kernel_constraint=keras.constraints.max_norm(1.))"
   ]
  },
  {
   "cell_type": "code",
   "execution_count": 73,
   "id": "ab846d0a",
   "metadata": {},
   "outputs": [
    {
     "name": "stdout",
     "output_type": "stream",
     "text": [
      "Epoch 1/2\n",
      "1719/1719 [==============================] - 6s 4ms/step - loss: 0.4743 - accuracy: 0.8333 - val_loss: 0.3733 - val_accuracy: 0.8654\n",
      "Epoch 2/2\n",
      "1719/1719 [==============================] - 6s 3ms/step - loss: 0.3546 - accuracy: 0.8710 - val_loss: 0.3715 - val_accuracy: 0.8634\n"
     ]
    }
   ],
   "source": [
    "MaxNormDense = partial(keras.layers.Dense,\n",
    "                       activation=\"selu\", kernel_initializer=\"lecun_normal\",\n",
    "                       kernel_constraint=keras.constraints.max_norm(1.))\n",
    "\n",
    "model = keras.models.Sequential([\n",
    "    keras.layers.Flatten(input_shape=[28, 28]),\n",
    "    MaxNormDense(300),\n",
    "    MaxNormDense(100),\n",
    "    keras.layers.Dense(10, activation=\"softmax\")\n",
    "])\n",
    "model.compile(loss=\"sparse_categorical_crossentropy\", optimizer=\"nadam\", metrics=[\"accuracy\"])\n",
    "n_epochs = 2\n",
    "history = model.fit(X_train_scaled, y_train, epochs=n_epochs,\n",
    "                    validation_data=(X_valid_scaled, y_valid))"
   ]
  }
 ],
 "metadata": {
  "kernelspec": {
   "display_name": "Python [conda env:ml_learning] *",
   "language": "python",
   "name": "conda-env-ml_learning-py"
  },
  "language_info": {
   "codemirror_mode": {
    "name": "ipython",
    "version": 3
   },
   "file_extension": ".py",
   "mimetype": "text/x-python",
   "name": "python",
   "nbconvert_exporter": "python",
   "pygments_lexer": "ipython3",
   "version": "3.8.5"
  }
 },
 "nbformat": 4,
 "nbformat_minor": 5
}
